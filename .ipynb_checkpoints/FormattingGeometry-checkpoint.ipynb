{
 "cells": [
  {
   "cell_type": "markdown",
   "id": "402943b1",
   "metadata": {},
   "source": [
    "# Formatting Data (geometry)\n",
    "\n",
    "\n",
    "In general, you need to format geometry when you get coordinates."
   ]
  },
  {
   "cell_type": "code",
   "execution_count": 1,
   "id": "75f3c948",
   "metadata": {},
   "outputs": [
    {
     "ename": "FileNotFoundError",
     "evalue": "[Errno 2] No such file or directory: 'DataFiles\\\\calls911.pkl'",
     "output_type": "error",
     "traceback": [
      "\u001b[1;31m---------------------------------------------------------------------------\u001b[0m",
      "\u001b[1;31mFileNotFoundError\u001b[0m                         Traceback (most recent call last)",
      "Input \u001b[1;32mIn [1]\u001b[0m, in \u001b[0;36m<cell line: 5>\u001b[1;34m()\u001b[0m\n\u001b[0;32m      2\u001b[0m \u001b[38;5;28;01mimport\u001b[39;00m \u001b[38;5;21;01mos\u001b[39;00m\n\u001b[0;32m      4\u001b[0m where\u001b[38;5;241m=\u001b[39mos\u001b[38;5;241m.\u001b[39mpath\u001b[38;5;241m.\u001b[39mjoin(\u001b[38;5;124m'\u001b[39m\u001b[38;5;124mDataFiles\u001b[39m\u001b[38;5;124m'\u001b[39m,\u001b[38;5;124m'\u001b[39m\u001b[38;5;124mcalls911.pkl\u001b[39m\u001b[38;5;124m'\u001b[39m)\n\u001b[1;32m----> 5\u001b[0m calls911\u001b[38;5;241m=\u001b[39m\u001b[43mpd\u001b[49m\u001b[38;5;241;43m.\u001b[39;49m\u001b[43mread_pickle\u001b[49m\u001b[43m(\u001b[49m\u001b[43mwhere\u001b[49m\u001b[43m)\u001b[49m\n\u001b[0;32m      6\u001b[0m calls911\u001b[38;5;241m.\u001b[39mhead()\n",
      "File \u001b[1;32m~\\anaconda3\\envs\\FGV\\lib\\site-packages\\pandas\\io\\pickle.py:187\u001b[0m, in \u001b[0;36mread_pickle\u001b[1;34m(filepath_or_buffer, compression, storage_options)\u001b[0m\n\u001b[0;32m    124\u001b[0m \u001b[38;5;124;03m\"\"\"\u001b[39;00m\n\u001b[0;32m    125\u001b[0m \u001b[38;5;124;03mLoad pickled pandas object (or any object) from file.\u001b[39;00m\n\u001b[0;32m    126\u001b[0m \n\u001b[1;32m   (...)\u001b[0m\n\u001b[0;32m    184\u001b[0m \u001b[38;5;124;03m4    4    9\u001b[39;00m\n\u001b[0;32m    185\u001b[0m \u001b[38;5;124;03m\"\"\"\u001b[39;00m  \u001b[38;5;66;03m# noqa: E501\u001b[39;00m\n\u001b[0;32m    186\u001b[0m excs_to_catch \u001b[38;5;241m=\u001b[39m (\u001b[38;5;167;01mAttributeError\u001b[39;00m, \u001b[38;5;167;01mImportError\u001b[39;00m, \u001b[38;5;167;01mModuleNotFoundError\u001b[39;00m, \u001b[38;5;167;01mTypeError\u001b[39;00m)\n\u001b[1;32m--> 187\u001b[0m \u001b[38;5;28;01mwith\u001b[39;00m \u001b[43mget_handle\u001b[49m\u001b[43m(\u001b[49m\n\u001b[0;32m    188\u001b[0m \u001b[43m    \u001b[49m\u001b[43mfilepath_or_buffer\u001b[49m\u001b[43m,\u001b[49m\n\u001b[0;32m    189\u001b[0m \u001b[43m    \u001b[49m\u001b[38;5;124;43m\"\u001b[39;49m\u001b[38;5;124;43mrb\u001b[39;49m\u001b[38;5;124;43m\"\u001b[39;49m\u001b[43m,\u001b[49m\n\u001b[0;32m    190\u001b[0m \u001b[43m    \u001b[49m\u001b[43mcompression\u001b[49m\u001b[38;5;241;43m=\u001b[39;49m\u001b[43mcompression\u001b[49m\u001b[43m,\u001b[49m\n\u001b[0;32m    191\u001b[0m \u001b[43m    \u001b[49m\u001b[43mis_text\u001b[49m\u001b[38;5;241;43m=\u001b[39;49m\u001b[38;5;28;43;01mFalse\u001b[39;49;00m\u001b[43m,\u001b[49m\n\u001b[0;32m    192\u001b[0m \u001b[43m    \u001b[49m\u001b[43mstorage_options\u001b[49m\u001b[38;5;241;43m=\u001b[39;49m\u001b[43mstorage_options\u001b[49m\u001b[43m,\u001b[49m\n\u001b[0;32m    193\u001b[0m \u001b[43m\u001b[49m\u001b[43m)\u001b[49m \u001b[38;5;28;01mas\u001b[39;00m handles:\n\u001b[0;32m    194\u001b[0m \n\u001b[0;32m    195\u001b[0m     \u001b[38;5;66;03m# 1) try standard library Pickle\u001b[39;00m\n\u001b[0;32m    196\u001b[0m     \u001b[38;5;66;03m# 2) try pickle_compat (older pandas version) to handle subclass changes\u001b[39;00m\n\u001b[0;32m    197\u001b[0m     \u001b[38;5;66;03m# 3) try pickle_compat with latin-1 encoding upon a UnicodeDecodeError\u001b[39;00m\n\u001b[0;32m    199\u001b[0m     \u001b[38;5;28;01mtry\u001b[39;00m:\n\u001b[0;32m    200\u001b[0m         \u001b[38;5;66;03m# TypeError for Cython complaints about object.__new__ vs Tick.__new__\u001b[39;00m\n\u001b[0;32m    201\u001b[0m         \u001b[38;5;28;01mtry\u001b[39;00m:\n",
      "File \u001b[1;32m~\\anaconda3\\envs\\FGV\\lib\\site-packages\\pandas\\io\\common.py:795\u001b[0m, in \u001b[0;36mget_handle\u001b[1;34m(path_or_buf, mode, encoding, compression, memory_map, is_text, errors, storage_options)\u001b[0m\n\u001b[0;32m    786\u001b[0m         handle \u001b[38;5;241m=\u001b[39m \u001b[38;5;28mopen\u001b[39m(\n\u001b[0;32m    787\u001b[0m             handle,\n\u001b[0;32m    788\u001b[0m             ioargs\u001b[38;5;241m.\u001b[39mmode,\n\u001b[1;32m   (...)\u001b[0m\n\u001b[0;32m    791\u001b[0m             newline\u001b[38;5;241m=\u001b[39m\u001b[38;5;124m\"\u001b[39m\u001b[38;5;124m\"\u001b[39m,\n\u001b[0;32m    792\u001b[0m         )\n\u001b[0;32m    793\u001b[0m     \u001b[38;5;28;01melse\u001b[39;00m:\n\u001b[0;32m    794\u001b[0m         \u001b[38;5;66;03m# Binary mode\u001b[39;00m\n\u001b[1;32m--> 795\u001b[0m         handle \u001b[38;5;241m=\u001b[39m \u001b[38;5;28;43mopen\u001b[39;49m\u001b[43m(\u001b[49m\u001b[43mhandle\u001b[49m\u001b[43m,\u001b[49m\u001b[43m \u001b[49m\u001b[43mioargs\u001b[49m\u001b[38;5;241;43m.\u001b[39;49m\u001b[43mmode\u001b[49m\u001b[43m)\u001b[49m\n\u001b[0;32m    796\u001b[0m     handles\u001b[38;5;241m.\u001b[39mappend(handle)\n\u001b[0;32m    798\u001b[0m \u001b[38;5;66;03m# Convert BytesIO or file objects passed with an encoding\u001b[39;00m\n",
      "\u001b[1;31mFileNotFoundError\u001b[0m: [Errno 2] No such file or directory: 'DataFiles\\\\calls911.pkl'"
     ]
    }
   ],
   "source": [
    "import pandas as pd\n",
    "import os\n",
    "\n",
    "where=os.path.join('DataFiles','calls911.pkl')\n",
    "calls911=pd.read_pickle(where)\n",
    "calls911.head()"
   ]
  },
  {
   "cell_type": "markdown",
   "id": "33d1b686",
   "metadata": {},
   "source": [
    "You know the call identify the location of the incident. Then you are interested in representing that coordinates in a map. You have this map:"
   ]
  },
  {
   "cell_type": "code",
   "execution_count": null,
   "id": "949f3baf",
   "metadata": {},
   "outputs": [],
   "source": [
    "import geopandas as gpd\n",
    "\n",
    "theMapFile=os.path.join(\"DataFiles\",\"Census_Tracts_2010.geojson\")\n",
    "seattleMap=gpd.read_file(theMapFile)\n",
    "seattleMap.plot()"
   ]
  },
  {
   "cell_type": "markdown",
   "id": "86c2a182",
   "metadata": {},
   "source": [
    "The map came from a geojson file. It is a common format these days. However, the more familiar format has always been the shapefile (**.shp**)\n",
    "\n",
    "All maps are a **projection** of our 3D world. So, maps, 2D objects, should let us know that:"
   ]
  },
  {
   "cell_type": "code",
   "execution_count": null,
   "id": "81db838e",
   "metadata": {},
   "outputs": [],
   "source": [
    "# projection info is not here!!\n",
    "seattleMap.info()"
   ]
  },
  {
   "cell_type": "code",
   "execution_count": null,
   "id": "02bc26c4",
   "metadata": {},
   "outputs": [],
   "source": [
    "# it is here\n",
    "seattleMap.crs"
   ]
  },
  {
   "cell_type": "markdown",
   "id": "adcb0a2a",
   "metadata": {},
   "source": [
    "The **report_location** column came from the original data in the _API_; it has the coordinates of the event, and it is very useful. I can recover that in Python as it is a dictionary."
   ]
  },
  {
   "cell_type": "code",
   "execution_count": null,
   "id": "059281f8",
   "metadata": {
    "scrolled": false
   },
   "outputs": [],
   "source": [
    "[x['coordinates'] for x in calls911.report_location[1:10]]"
   ]
  },
  {
   "cell_type": "markdown",
   "id": "df1e65a1",
   "metadata": {},
   "source": [
    "Fortunately, we have already that information in the columns _longitude_ and _latitude_; so we can drop it:"
   ]
  },
  {
   "cell_type": "code",
   "execution_count": null,
   "id": "8115195a",
   "metadata": {},
   "outputs": [],
   "source": [
    "calls911.drop(columns=[\"report_location\"],inplace=True)"
   ]
  },
  {
   "cell_type": "markdown",
   "id": "0f19a1f2",
   "metadata": {},
   "source": [
    "However, _longitude_ and _latitude_ are not numeric, then we need to format:"
   ]
  },
  {
   "cell_type": "code",
   "execution_count": null,
   "id": "25b56d98",
   "metadata": {},
   "outputs": [],
   "source": [
    "calls911[['longitude','latitude']]=calls911[['longitude','latitude']].apply(lambda x:pd.to_numeric(x))"
   ]
  },
  {
   "cell_type": "markdown",
   "id": "b29d73c0",
   "metadata": {},
   "source": [
    "Let's pay plot the coordinates:"
   ]
  },
  {
   "cell_type": "code",
   "execution_count": null,
   "id": "892223f1",
   "metadata": {},
   "outputs": [],
   "source": [
    "calls911.plot.scatter(x = 'longitude', y = 'latitude')"
   ]
  },
  {
   "cell_type": "markdown",
   "id": "d01d0247",
   "metadata": {},
   "source": [
    "Now, let's plot the coordinates on top of the map:"
   ]
  },
  {
   "cell_type": "code",
   "execution_count": null,
   "id": "a39e3f17",
   "metadata": {},
   "outputs": [],
   "source": [
    "import matplotlib.pyplot as plt\n",
    "ax = seattleMap.plot(color='white',\n",
    "                  edgecolor='black')\n",
    "\n",
    "calls911[['longitude','latitude']].plot(ax=ax, color='red',markersize=0.5)\n",
    "\n",
    "plt.show()"
   ]
  },
  {
   "cell_type": "markdown",
   "id": "9be9bab0",
   "metadata": {},
   "source": [
    "It fails as it is not a spatial data frame.\n",
    "\n",
    "The next step is to create a spatial dataframe for the 911 data. Let's use geopandas:"
   ]
  },
  {
   "cell_type": "code",
   "execution_count": null,
   "id": "52829e1f",
   "metadata": {},
   "outputs": [],
   "source": [
    "import geopandas as gpd\n",
    "\n",
    "pointsAsGeometry=gpd.points_from_xy(calls911.longitude,\n",
    "                                    calls911.latitude,crs=\"EPSG:4326\")\n",
    "\n",
    "calls911_geo = gpd.GeoDataFrame(calls911,\n",
    "                                geometry=pointsAsGeometry)\n",
    "\n",
    "# check:\n",
    "\n",
    "calls911_geo.crs"
   ]
  },
  {
   "cell_type": "markdown",
   "id": "d6bcec7e",
   "metadata": {},
   "source": [
    "Let's redo the previous _failed_ plot:"
   ]
  },
  {
   "cell_type": "code",
   "execution_count": null,
   "id": "7202e215",
   "metadata": {},
   "outputs": [],
   "source": [
    "ax = seattleMap.plot(color='white',\n",
    "                  edgecolor='black')\n",
    "\n",
    "calls911_geo.plot(ax=ax, color='red',\n",
    "                  markersize=0.5)\n",
    "plt.show()"
   ]
  },
  {
   "cell_type": "markdown",
   "id": "883b0a79",
   "metadata": {},
   "source": [
    "Notice there is an event registered which is not in Seattle."
   ]
  },
  {
   "cell_type": "code",
   "execution_count": null,
   "id": "4eb02f1a",
   "metadata": {},
   "outputs": [],
   "source": [
    "calls911_geo[calls911_geo.longitude==calls911_geo.longitude.max()]"
   ]
  },
  {
   "cell_type": "markdown",
   "id": "77d1a43b",
   "metadata": {},
   "source": [
    "The map of Seattle has information of its limits: the **bounding box**. You can use that to filter the events:"
   ]
  },
  {
   "cell_type": "code",
   "execution_count": null,
   "id": "f23fe817",
   "metadata": {},
   "outputs": [],
   "source": [
    "calls911_geoclipped = gpd.clip(gdf=calls911_geo,\n",
    "                               mask=seattleMap)\n",
    "\n",
    "###\n",
    "\n",
    "ax = seattleMap.plot(color='white',\n",
    "                  edgecolor='black')\n",
    "\n",
    "calls911_geoclipped.plot(ax=ax, color='red',\n",
    "                  markersize=0.5)\n",
    "plt.show()"
   ]
  },
  {
   "cell_type": "markdown",
   "id": "a7dc92e1",
   "metadata": {},
   "source": [
    "We could save this file as an spatial data frame for further use in another program:"
   ]
  },
  {
   "cell_type": "code",
   "execution_count": null,
   "id": "5fa2aaab",
   "metadata": {},
   "outputs": [],
   "source": [
    "# the datetime format can not be saved so we drop it.\n",
    "# other choice could be to save it as a string.\n",
    "\n",
    "whereGeo=os.path.join(\"DataFiles\",\"calls911_geo.geojson\")\n",
    "\n",
    "calls911_geoclipped.drop(columns=[\"date\"]).to_file(whereGeo,\n",
    "                                            driver='GeoJSON')"
   ]
  },
  {
   "cell_type": "code",
   "execution_count": null,
   "id": "3b06f0a1",
   "metadata": {},
   "outputs": [],
   "source": []
  }
 ],
 "metadata": {
  "kernelspec": {
   "display_name": "Python 3 (ipykernel)",
   "language": "python",
   "name": "python3"
  },
  "language_info": {
   "codemirror_mode": {
    "name": "ipython",
    "version": 3
   },
   "file_extension": ".py",
   "mimetype": "text/x-python",
   "name": "python",
   "nbconvert_exporter": "python",
   "pygments_lexer": "ipython3",
   "version": "3.9.12"
  }
 },
 "nbformat": 4,
 "nbformat_minor": 5
}
