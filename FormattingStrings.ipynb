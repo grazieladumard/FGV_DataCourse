{
 "cells": [
  {
   "cell_type": "markdown",
   "id": "114e2eb6",
   "metadata": {},
   "source": [
    "# Data Formatting (strings)\n",
    "\n",
    "This is a process where we make sure we have the right data type.\n",
    "\n",
    "It is important to realize that while you do formatting you may need some messiness in the values may appear that again again require a cleaning of the column.\n"
   ]
  },
  {
   "cell_type": "markdown",
   "id": "48c61d43",
   "metadata": {},
   "source": [
    "# String case"
   ]
  },
  {
   "cell_type": "code",
   "execution_count": 2,
   "id": "bc3b2c61",
   "metadata": {},
   "outputs": [
    {
     "data": {
      "text/html": [
       "\n",
       "        <iframe\n",
       "            width=\"900\"\n",
       "            height=\"500\"\n",
       "            src=\"https://en.wikipedia.org/wiki/List_of_active_rebel_groups\"\n",
       "            frameborder=\"0\"\n",
       "            allowfullscreen\n",
       "            \n",
       "        ></iframe>\n",
       "        "
      ],
      "text/plain": [
       "<IPython.lib.display.IFrame at 0x1e256645f40>"
      ]
     },
     "execution_count": 2,
     "metadata": {},
     "output_type": "execute_result"
    }
   ],
   "source": [
    "from IPython.display import IFrame  \n",
    "wikiLink2=\"https://en.wikipedia.org/wiki/List_of_active_rebel_groups\" \n",
    "IFrame(wikiLink2, width=900, height=500)"
   ]
  },
  {
   "cell_type": "code",
   "execution_count": 3,
   "id": "9e038365",
   "metadata": {},
   "outputs": [
    {
     "data": {
      "text/plain": [
       "1"
      ]
     },
     "execution_count": 3,
     "metadata": {},
     "output_type": "execute_result"
    }
   ],
   "source": [
    "import pandas as pd\n",
    "\n",
    "rebels = pd.read_html(wikiLink2,flavor='bs4',\n",
    "                        attrs = {'class': 'wikitable sortable'})\n",
    "len(rebels)"
   ]
  },
  {
   "cell_type": "markdown",
   "id": "b793de51",
   "metadata": {},
   "source": [
    "This is our table:"
   ]
  },
  {
   "cell_type": "code",
   "execution_count": 4,
   "id": "87ed6d40",
   "metadata": {},
   "outputs": [
    {
     "data": {
      "text/html": [
       "<div>\n",
       "<style scoped>\n",
       "    .dataframe tbody tr th:only-of-type {\n",
       "        vertical-align: middle;\n",
       "    }\n",
       "\n",
       "    .dataframe tbody tr th {\n",
       "        vertical-align: top;\n",
       "    }\n",
       "\n",
       "    .dataframe thead th {\n",
       "        text-align: right;\n",
       "    }\n",
       "</style>\n",
       "<table border=\"1\" class=\"dataframe\">\n",
       "  <thead>\n",
       "    <tr style=\"text-align: right;\">\n",
       "      <th></th>\n",
       "      <th>Within state</th>\n",
       "      <th>Rebel group</th>\n",
       "      <th>Subgroups / Affiliates</th>\n",
       "      <th>Conflict</th>\n",
       "      <th>Year Established</th>\n",
       "      <th>Leader</th>\n",
       "      <th>References</th>\n",
       "    </tr>\n",
       "  </thead>\n",
       "  <tbody>\n",
       "    <tr>\n",
       "      <th>0</th>\n",
       "      <td>Multinational: Democratic Republic of the Cong...</td>\n",
       "      <td>Allied Democratic Forces (ADF)</td>\n",
       "      <td>None</td>\n",
       "      <td>Allied Democratic Forces insurgency Kivu confl...</td>\n",
       "      <td>1996</td>\n",
       "      <td>Musa Baluku</td>\n",
       "      <td>[1]</td>\n",
       "    </tr>\n",
       "    <tr>\n",
       "      <th>1</th>\n",
       "      <td>Multinational: Algeria Bangladesh Burkina Faso...</td>\n",
       "      <td>Al-Qaeda</td>\n",
       "      <td>Abdullah Azzam Brigades Aden-Abyan Islamic Arm...</td>\n",
       "      <td>Afghanistan conflict Al-Qaeda insurgency in Ye...</td>\n",
       "      <td>1988</td>\n",
       "      <td>Ayman al-Zawahiri</td>\n",
       "      <td>[2][3][4]</td>\n",
       "    </tr>\n",
       "    <tr>\n",
       "      <th>2</th>\n",
       "      <td>Multinational: Afghanistan Algeria Bangladesh ...</td>\n",
       "      <td>Islamic State of Iraq and the Levant</td>\n",
       "      <td>Abu Sayyaf (ASG) Al-Khansaa Brigade Algeria Pr...</td>\n",
       "      <td>Islamic State–Taliban conflict Yemeni Civil Wa...</td>\n",
       "      <td>1999</td>\n",
       "      <td>Abu Ibrahim al-Hashimi al-Qurashi</td>\n",
       "      <td>[5][6][7][8][9]</td>\n",
       "    </tr>\n",
       "    <tr>\n",
       "      <th>3</th>\n",
       "      <td>Multinational: Afghanistan Iran Pakistan Syria...</td>\n",
       "      <td>Jama'at al-Jihad al-Islami</td>\n",
       "      <td>None</td>\n",
       "      <td>Afghanistan conflict War in North-West Pakista...</td>\n",
       "      <td>2002</td>\n",
       "      <td>NaN</td>\n",
       "      <td>NaN</td>\n",
       "    </tr>\n",
       "    <tr>\n",
       "      <th>4</th>\n",
       "      <td>Multinational: Indonesia Malaysia Philippines ...</td>\n",
       "      <td>Jemaah Islamiyah</td>\n",
       "      <td>None</td>\n",
       "      <td>NaN</td>\n",
       "      <td>1993</td>\n",
       "      <td>Abu Bakar Baasyir</td>\n",
       "      <td>NaN</td>\n",
       "    </tr>\n",
       "    <tr>\n",
       "      <th>...</th>\n",
       "      <td>...</td>\n",
       "      <td>...</td>\n",
       "      <td>...</td>\n",
       "      <td>...</td>\n",
       "      <td>...</td>\n",
       "      <td>...</td>\n",
       "      <td>...</td>\n",
       "    </tr>\n",
       "    <tr>\n",
       "      <th>180</th>\n",
       "      <td>United Kingdom</td>\n",
       "      <td>Red Hand Defenders</td>\n",
       "      <td>None</td>\n",
       "      <td>Dissident Irish republican campaign</td>\n",
       "      <td>1998</td>\n",
       "      <td>NaN</td>\n",
       "      <td>NaN</td>\n",
       "    </tr>\n",
       "    <tr>\n",
       "      <th>181</th>\n",
       "      <td>United Kingdom</td>\n",
       "      <td>Real Irish Republican Army (RIRA)</td>\n",
       "      <td>None</td>\n",
       "      <td>Dissident Irish republican campaign</td>\n",
       "      <td>1997</td>\n",
       "      <td>Army Council</td>\n",
       "      <td>NaN</td>\n",
       "    </tr>\n",
       "    <tr>\n",
       "      <th>182</th>\n",
       "      <td>United Kingdom</td>\n",
       "      <td>Real Ulster Freedom Fighters</td>\n",
       "      <td>None</td>\n",
       "      <td>Dissident Irish republican campaign</td>\n",
       "      <td>2007</td>\n",
       "      <td>NaN</td>\n",
       "      <td>NaN</td>\n",
       "    </tr>\n",
       "    <tr>\n",
       "      <th>183</th>\n",
       "      <td>Yemen</td>\n",
       "      <td>Houthi movement</td>\n",
       "      <td>Supreme Political Council</td>\n",
       "      <td>Yemeni Civil War (2014–present) Yemeni Crisis ...</td>\n",
       "      <td>1994</td>\n",
       "      <td>Abdul-Malik Badreddin al-Houthi</td>\n",
       "      <td>NaN</td>\n",
       "    </tr>\n",
       "    <tr>\n",
       "      <th>184</th>\n",
       "      <td>Yemen</td>\n",
       "      <td>Southern Movement</td>\n",
       "      <td>Southern Transitional Council</td>\n",
       "      <td>Yemeni Civil War (2014–present) Yemeni Crisis ...</td>\n",
       "      <td>2007</td>\n",
       "      <td>Aidarus al-Zoubaidi</td>\n",
       "      <td>NaN</td>\n",
       "    </tr>\n",
       "  </tbody>\n",
       "</table>\n",
       "<p>185 rows × 7 columns</p>\n",
       "</div>"
      ],
      "text/plain": [
       "                                          Within state  \\\n",
       "0    Multinational: Democratic Republic of the Cong...   \n",
       "1    Multinational: Algeria Bangladesh Burkina Faso...   \n",
       "2    Multinational: Afghanistan Algeria Bangladesh ...   \n",
       "3    Multinational: Afghanistan Iran Pakistan Syria...   \n",
       "4    Multinational: Indonesia Malaysia Philippines ...   \n",
       "..                                                 ...   \n",
       "180                                     United Kingdom   \n",
       "181                                     United Kingdom   \n",
       "182                                     United Kingdom   \n",
       "183                                              Yemen   \n",
       "184                                              Yemen   \n",
       "\n",
       "                              Rebel group  \\\n",
       "0          Allied Democratic Forces (ADF)   \n",
       "1                                Al-Qaeda   \n",
       "2    Islamic State of Iraq and the Levant   \n",
       "3              Jama'at al-Jihad al-Islami   \n",
       "4                        Jemaah Islamiyah   \n",
       "..                                    ...   \n",
       "180                    Red Hand Defenders   \n",
       "181     Real Irish Republican Army (RIRA)   \n",
       "182          Real Ulster Freedom Fighters   \n",
       "183                       Houthi movement   \n",
       "184                     Southern Movement   \n",
       "\n",
       "                                Subgroups / Affiliates  \\\n",
       "0                                                 None   \n",
       "1    Abdullah Azzam Brigades Aden-Abyan Islamic Arm...   \n",
       "2    Abu Sayyaf (ASG) Al-Khansaa Brigade Algeria Pr...   \n",
       "3                                                 None   \n",
       "4                                                 None   \n",
       "..                                                 ...   \n",
       "180                                               None   \n",
       "181                                               None   \n",
       "182                                               None   \n",
       "183                          Supreme Political Council   \n",
       "184                      Southern Transitional Council   \n",
       "\n",
       "                                              Conflict Year Established  \\\n",
       "0    Allied Democratic Forces insurgency Kivu confl...             1996   \n",
       "1    Afghanistan conflict Al-Qaeda insurgency in Ye...             1988   \n",
       "2    Islamic State–Taliban conflict Yemeni Civil Wa...             1999   \n",
       "3    Afghanistan conflict War in North-West Pakista...             2002   \n",
       "4                                                  NaN             1993   \n",
       "..                                                 ...              ...   \n",
       "180                Dissident Irish republican campaign             1998   \n",
       "181                Dissident Irish republican campaign             1997   \n",
       "182                Dissident Irish republican campaign             2007   \n",
       "183  Yemeni Civil War (2014–present) Yemeni Crisis ...             1994   \n",
       "184  Yemeni Civil War (2014–present) Yemeni Crisis ...             2007   \n",
       "\n",
       "                                Leader       References  \n",
       "0                          Musa Baluku              [1]  \n",
       "1                    Ayman al-Zawahiri        [2][3][4]  \n",
       "2    Abu Ibrahim al-Hashimi al-Qurashi  [5][6][7][8][9]  \n",
       "3                                  NaN              NaN  \n",
       "4                    Abu Bakar Baasyir              NaN  \n",
       "..                                 ...              ...  \n",
       "180                                NaN              NaN  \n",
       "181                       Army Council              NaN  \n",
       "182                                NaN              NaN  \n",
       "183    Abdul-Malik Badreddin al-Houthi              NaN  \n",
       "184                Aidarus al-Zoubaidi              NaN  \n",
       "\n",
       "[185 rows x 7 columns]"
      ]
     },
     "execution_count": 4,
     "metadata": {},
     "output_type": "execute_result"
    }
   ],
   "source": [
    "theRebels=rebels[0].copy() \n",
    "theRebels"
   ]
  },
  {
   "cell_type": "code",
   "execution_count": 5,
   "id": "f9223f1f",
   "metadata": {},
   "outputs": [
    {
     "data": {
      "text/plain": [
       "Index(['Within state', 'Rebel group', 'Subgroups / Affiliates', 'Conflict',\n",
       "       'Year Established', 'Leader', 'References'],\n",
       "      dtype='object')"
      ]
     },
     "execution_count": 5,
     "metadata": {},
     "output_type": "execute_result"
    }
   ],
   "source": [
    "# check names in columns\n",
    "\n",
    "theRebels.columns"
   ]
  },
  {
   "cell_type": "code",
   "execution_count": 6,
   "id": "728201b9",
   "metadata": {},
   "outputs": [
    {
     "data": {
      "text/html": [
       "<div>\n",
       "<style scoped>\n",
       "    .dataframe tbody tr th:only-of-type {\n",
       "        vertical-align: middle;\n",
       "    }\n",
       "\n",
       "    .dataframe tbody tr th {\n",
       "        vertical-align: top;\n",
       "    }\n",
       "\n",
       "    .dataframe thead th {\n",
       "        text-align: right;\n",
       "    }\n",
       "</style>\n",
       "<table border=\"1\" class=\"dataframe\">\n",
       "  <thead>\n",
       "    <tr style=\"text-align: right;\">\n",
       "      <th></th>\n",
       "      <th>State</th>\n",
       "      <th>Rebel group</th>\n",
       "      <th>Affiliates</th>\n",
       "      <th>Conflict</th>\n",
       "      <th>Year Established</th>\n",
       "      <th>Leader</th>\n",
       "      <th>References</th>\n",
       "    </tr>\n",
       "  </thead>\n",
       "  <tbody>\n",
       "    <tr>\n",
       "      <th>0</th>\n",
       "      <td>Multinational: Democratic Republic of the Cong...</td>\n",
       "      <td>Allied Democratic Forces (ADF)</td>\n",
       "      <td>None</td>\n",
       "      <td>Allied Democratic Forces insurgency Kivu confl...</td>\n",
       "      <td>1996</td>\n",
       "      <td>Musa Baluku</td>\n",
       "      <td>[1]</td>\n",
       "    </tr>\n",
       "    <tr>\n",
       "      <th>1</th>\n",
       "      <td>Multinational: Algeria Bangladesh Burkina Faso...</td>\n",
       "      <td>Al-Qaeda</td>\n",
       "      <td>Abdullah Azzam Brigades Aden-Abyan Islamic Arm...</td>\n",
       "      <td>Afghanistan conflict Al-Qaeda insurgency in Ye...</td>\n",
       "      <td>1988</td>\n",
       "      <td>Ayman al-Zawahiri</td>\n",
       "      <td>[2][3][4]</td>\n",
       "    </tr>\n",
       "    <tr>\n",
       "      <th>2</th>\n",
       "      <td>Multinational: Afghanistan Algeria Bangladesh ...</td>\n",
       "      <td>Islamic State of Iraq and the Levant</td>\n",
       "      <td>Abu Sayyaf (ASG) Al-Khansaa Brigade Algeria Pr...</td>\n",
       "      <td>Islamic State–Taliban conflict Yemeni Civil Wa...</td>\n",
       "      <td>1999</td>\n",
       "      <td>Abu Ibrahim al-Hashimi al-Qurashi</td>\n",
       "      <td>[5][6][7][8][9]</td>\n",
       "    </tr>\n",
       "  </tbody>\n",
       "</table>\n",
       "</div>"
      ],
      "text/plain": [
       "                                               State  \\\n",
       "0  Multinational: Democratic Republic of the Cong...   \n",
       "1  Multinational: Algeria Bangladesh Burkina Faso...   \n",
       "2  Multinational: Afghanistan Algeria Bangladesh ...   \n",
       "\n",
       "                            Rebel group  \\\n",
       "0        Allied Democratic Forces (ADF)   \n",
       "1                              Al-Qaeda   \n",
       "2  Islamic State of Iraq and the Levant   \n",
       "\n",
       "                                          Affiliates  \\\n",
       "0                                               None   \n",
       "1  Abdullah Azzam Brigades Aden-Abyan Islamic Arm...   \n",
       "2  Abu Sayyaf (ASG) Al-Khansaa Brigade Algeria Pr...   \n",
       "\n",
       "                                            Conflict Year Established  \\\n",
       "0  Allied Democratic Forces insurgency Kivu confl...             1996   \n",
       "1  Afghanistan conflict Al-Qaeda insurgency in Ye...             1988   \n",
       "2  Islamic State–Taliban conflict Yemeni Civil Wa...             1999   \n",
       "\n",
       "                              Leader       References  \n",
       "0                        Musa Baluku              [1]  \n",
       "1                  Ayman al-Zawahiri        [2][3][4]  \n",
       "2  Abu Ibrahim al-Hashimi al-Qurashi  [5][6][7][8][9]  "
      ]
     },
     "execution_count": 6,
     "metadata": {},
     "output_type": "execute_result"
    }
   ],
   "source": [
    "# using rename - usign a dictonaryto rename some specific names\n",
    "newNames={theRebels.columns[0]:'State',\n",
    "          theRebels.columns[2]:'Affiliates'}\n",
    "\n",
    "theRebels.rename(columns=newNames,inplace=True)\n",
    "theRebels.head(3)"
   ]
  },
  {
   "cell_type": "code",
   "execution_count": 7,
   "id": "cf585437",
   "metadata": {},
   "outputs": [
    {
     "data": {
      "text/plain": [
       "Index(['State', 'Rebel group', 'Affiliates', 'Conflict', 'Year Established',\n",
       "       'Leader', 'References'],\n",
       "      dtype='object')"
      ]
     },
     "execution_count": 7,
     "metadata": {},
     "output_type": "execute_result"
    }
   ],
   "source": [
    "# simple names\n",
    "theRebels.columns"
   ]
  },
  {
   "cell_type": "code",
   "execution_count": 8,
   "id": "25bbf344",
   "metadata": {},
   "outputs": [
    {
     "data": {
      "text/html": [
       "<div>\n",
       "<style scoped>\n",
       "    .dataframe tbody tr th:only-of-type {\n",
       "        vertical-align: middle;\n",
       "    }\n",
       "\n",
       "    .dataframe tbody tr th {\n",
       "        vertical-align: top;\n",
       "    }\n",
       "\n",
       "    .dataframe thead th {\n",
       "        text-align: right;\n",
       "    }\n",
       "</style>\n",
       "<table border=\"1\" class=\"dataframe\">\n",
       "  <thead>\n",
       "    <tr style=\"text-align: right;\">\n",
       "      <th></th>\n",
       "      <th>State</th>\n",
       "      <th>Rebelgroup</th>\n",
       "      <th>Affiliates</th>\n",
       "      <th>Conflict</th>\n",
       "      <th>YearEstablished</th>\n",
       "      <th>Leader</th>\n",
       "      <th>References</th>\n",
       "    </tr>\n",
       "  </thead>\n",
       "  <tbody>\n",
       "    <tr>\n",
       "      <th>0</th>\n",
       "      <td>Multinational: Democratic Republic of the Cong...</td>\n",
       "      <td>Allied Democratic Forces (ADF)</td>\n",
       "      <td>None</td>\n",
       "      <td>Allied Democratic Forces insurgency Kivu confl...</td>\n",
       "      <td>1996</td>\n",
       "      <td>Musa Baluku</td>\n",
       "      <td>[1]</td>\n",
       "    </tr>\n",
       "    <tr>\n",
       "      <th>1</th>\n",
       "      <td>Multinational: Algeria Bangladesh Burkina Faso...</td>\n",
       "      <td>Al-Qaeda</td>\n",
       "      <td>Abdullah Azzam Brigades Aden-Abyan Islamic Arm...</td>\n",
       "      <td>Afghanistan conflict Al-Qaeda insurgency in Ye...</td>\n",
       "      <td>1988</td>\n",
       "      <td>Ayman al-Zawahiri</td>\n",
       "      <td>[2][3][4]</td>\n",
       "    </tr>\n",
       "    <tr>\n",
       "      <th>2</th>\n",
       "      <td>Multinational: Afghanistan Algeria Bangladesh ...</td>\n",
       "      <td>Islamic State of Iraq and the Levant</td>\n",
       "      <td>Abu Sayyaf (ASG) Al-Khansaa Brigade Algeria Pr...</td>\n",
       "      <td>Islamic State–Taliban conflict Yemeni Civil Wa...</td>\n",
       "      <td>1999</td>\n",
       "      <td>Abu Ibrahim al-Hashimi al-Qurashi</td>\n",
       "      <td>[5][6][7][8][9]</td>\n",
       "    </tr>\n",
       "  </tbody>\n",
       "</table>\n",
       "</div>"
      ],
      "text/plain": [
       "                                               State  \\\n",
       "0  Multinational: Democratic Republic of the Cong...   \n",
       "1  Multinational: Algeria Bangladesh Burkina Faso...   \n",
       "2  Multinational: Afghanistan Algeria Bangladesh ...   \n",
       "\n",
       "                             Rebelgroup  \\\n",
       "0        Allied Democratic Forces (ADF)   \n",
       "1                              Al-Qaeda   \n",
       "2  Islamic State of Iraq and the Levant   \n",
       "\n",
       "                                          Affiliates  \\\n",
       "0                                               None   \n",
       "1  Abdullah Azzam Brigades Aden-Abyan Islamic Arm...   \n",
       "2  Abu Sayyaf (ASG) Al-Khansaa Brigade Algeria Pr...   \n",
       "\n",
       "                                            Conflict YearEstablished  \\\n",
       "0  Allied Democratic Forces insurgency Kivu confl...            1996   \n",
       "1  Afghanistan conflict Al-Qaeda insurgency in Ye...            1988   \n",
       "2  Islamic State–Taliban conflict Yemeni Civil Wa...            1999   \n",
       "\n",
       "                              Leader       References  \n",
       "0                        Musa Baluku              [1]  \n",
       "1                  Ayman al-Zawahiri        [2][3][4]  \n",
       "2  Abu Ibrahim al-Hashimi al-Qurashi  [5][6][7][8][9]  "
      ]
     },
     "execution_count": 8,
     "metadata": {},
     "output_type": "execute_result"
    }
   ],
   "source": [
    "simplerNames=theRebels.columns.str.replace(r'\\s',\"\",regex=True)\n",
    "theRebels.columns=simplerNames\n",
    "theRebels.head(3)"
   ]
  },
  {
   "cell_type": "markdown",
   "id": "4dc82e8f",
   "metadata": {},
   "source": [
    "Let's drop *References*:"
   ]
  },
  {
   "cell_type": "code",
   "execution_count": 9,
   "id": "61300fe9",
   "metadata": {},
   "outputs": [],
   "source": [
    "theRebels.drop(columns=['References'],inplace=True)"
   ]
  },
  {
   "cell_type": "markdown",
   "id": "506dae36",
   "metadata": {},
   "source": [
    "Let's check the first column. This is nice!"
   ]
  },
  {
   "cell_type": "code",
   "execution_count": 10,
   "id": "7803bd1e",
   "metadata": {},
   "outputs": [
    {
     "data": {
      "text/plain": [
       "0      Multinational: Democratic Republic of the Cong...\n",
       "1      Multinational: Algeria Bangladesh Burkina Faso...\n",
       "2      Multinational: Afghanistan Algeria Bangladesh ...\n",
       "3      Multinational: Afghanistan Iran Pakistan Syria...\n",
       "4      Multinational: Indonesia Malaysia Philippines ...\n",
       "                             ...                        \n",
       "180                                       United Kingdom\n",
       "181                                       United Kingdom\n",
       "182                                       United Kingdom\n",
       "183                                                Yemen\n",
       "184                                                Yemen\n",
       "Name: State, Length: 185, dtype: object"
      ]
     },
     "execution_count": 10,
     "metadata": {},
     "output_type": "execute_result"
    }
   ],
   "source": [
    "theRebels.State"
   ]
  },
  {
   "cell_type": "markdown",
   "id": "96fed6fd",
   "metadata": {},
   "source": [
    "That gave me an idea:"
   ]
  },
  {
   "cell_type": "code",
   "execution_count": 13,
   "id": "40c1a72e",
   "metadata": {},
   "outputs": [
    {
     "ename": "SyntaxError",
     "evalue": "unexpected character after line continuation character (2297440518.py, line 1)",
     "output_type": "error",
     "traceback": [
      "\u001b[1;36m  Input \u001b[1;32mIn [13]\u001b[1;36m\u001b[0m\n\u001b[1;33m    theRebels=theRebels.assign(Multinational=\\\u001b[0m\n\u001b[1;37m                                              ^\u001b[0m\n\u001b[1;31mSyntaxError\u001b[0m\u001b[1;31m:\u001b[0m unexpected character after line continuation character\n"
     ]
    }
   ],
   "source": [
    "theRebels=theRebels.assign(Multinational=\\ #\\ o codigo continua na linha a abaixo. e significa estar na mesma linha\n",
    "                          theRebels.State.str.contains('Multinational:',\n",
    "                                                       case=False,\n",
    "                                                       regex=False))\n",
    "\n",
    "theRebels.State=theRebels.State.str.replace(pat='Multinational:',\n",
    "                                            repl=\"\",\n",
    "                                            case=False,\n",
    "                                            regex=False)\n",
    "theRebels.head(3)"
   ]
  },
  {
   "cell_type": "markdown",
   "id": "7bbc8dd4",
   "metadata": {},
   "source": [
    "Let's check state again, this time as a list. This is nicer:"
   ]
  },
  {
   "cell_type": "code",
   "execution_count": 19,
   "id": "d7eaca16",
   "metadata": {},
   "outputs": [
    {
     "data": {
      "text/plain": [
       "['Multinational:\\xa0Democratic Republic of the Congo\\xa0Uganda',\n",
       " 'Multinational:\\xa0Algeria\\xa0Bangladesh\\xa0Burkina Faso\\xa0Chad\\xa0Egypt\\xa0Indonesia\\xa0Iraq\\xa0Israel\\xa0Ivory Coast\\xa0Kenya\\xa0Libya\\xa0Mali\\xa0Niger\\xa0Nigeria\\xa0Pakistan\\xa0Russia\\xa0Somalia\\xa0Syria\\xa0Tunisia\\xa0Yemen',\n",
       " 'Multinational:\\xa0Afghanistan\\xa0Algeria\\xa0Bangladesh\\xa0Burkina Faso\\xa0Cameroon\\xa0Chad\\xa0Democratic Republic of the Congo\\xa0Egypt\\xa0Indonesia\\xa0India\\xa0Iraq\\xa0Iran\\xa0Ivory Coast\\xa0Libya\\xa0Mozambique\\xa0Mali\\xa0Niger\\xa0Nigeria\\xa0Pakistan\\xa0Philippines\\xa0Russia\\xa0Saudi Arabia\\xa0Somalia\\xa0Syria\\xa0Thailand\\xa0Tunisia\\xa0Turkey\\xa0Yemen',\n",
       " 'Multinational:\\xa0Afghanistan\\xa0Iran\\xa0Pakistan\\xa0Syria\\xa0Tajikistan',\n",
       " 'Multinational:\\xa0Indonesia\\xa0Malaysia\\xa0Philippines\\xa0Singapore\\xa0Thailand',\n",
       " 'Multinational:\\xa0Iraq\\xa0Iran\\xa0Syria\\xa0Turkey',\n",
       " 'Multinational:\\xa0Central African Republic\\xa0Democratic Republic of the Congo\\xa0South Sudan\\xa0Uganda',\n",
       " 'Afghanistan',\n",
       " 'Afghanistan',\n",
       " 'Afghanistan',\n",
       " 'Afghanistan',\n",
       " 'Angola',\n",
       " 'Burkina Faso',\n",
       " 'Cameroon',\n",
       " 'Central African Republic',\n",
       " 'Central African Republic',\n",
       " 'Chile',\n",
       " 'Chile',\n",
       " 'China',\n",
       " 'Colombia',\n",
       " 'Colombia',\n",
       " 'Colombia',\n",
       " 'Colombia',\n",
       " 'Colombia',\n",
       " 'Democratic Republic of the Congo',\n",
       " 'Democratic Republic of the Congo',\n",
       " 'Democratic Republic of the Congo',\n",
       " 'Democratic Republic of the Congo',\n",
       " 'Democratic Republic of the Congo',\n",
       " 'Democratic Republic of the Congo',\n",
       " 'Democratic Republic of the Congo',\n",
       " 'Democratic Republic of the Congo',\n",
       " 'Democratic Republic of the Congo',\n",
       " 'Democratic Republic of the Congo',\n",
       " 'Democratic Republic of the Congo',\n",
       " 'Democratic Republic of the Congo',\n",
       " 'Democratic Republic of the Congo',\n",
       " 'Democratic Republic of the Congo',\n",
       " 'Democratic Republic of the Congo',\n",
       " 'Democratic Republic of the Congo',\n",
       " 'Democratic Republic of the Congo',\n",
       " 'Democratic Republic of the Congo',\n",
       " 'Democratic Republic of the Congo',\n",
       " 'Democratic Republic of the Congo',\n",
       " 'Democratic Republic of the Congo',\n",
       " 'Egypt',\n",
       " 'Egypt',\n",
       " 'Egypt',\n",
       " 'Egypt',\n",
       " 'Egypt',\n",
       " 'Ethiopia',\n",
       " 'Ethiopia',\n",
       " 'France',\n",
       " 'Greece',\n",
       " 'Greece',\n",
       " 'Greece',\n",
       " 'Greece',\n",
       " 'Greece',\n",
       " 'India',\n",
       " 'India',\n",
       " 'India',\n",
       " 'India',\n",
       " 'India',\n",
       " 'India',\n",
       " 'India',\n",
       " 'India',\n",
       " 'India',\n",
       " 'India',\n",
       " 'India',\n",
       " 'Indonesia',\n",
       " 'Indonesia',\n",
       " 'Indonesia',\n",
       " 'Indonesia',\n",
       " 'Indonesia',\n",
       " 'Indonesia',\n",
       " 'Indonesia',\n",
       " 'Iran',\n",
       " 'Iran',\n",
       " 'Iran',\n",
       " 'Iran',\n",
       " 'Iran',\n",
       " 'Iran',\n",
       " 'Iran',\n",
       " 'Iran',\n",
       " 'Iraq',\n",
       " 'Iraq',\n",
       " 'Iraq',\n",
       " 'Iraq',\n",
       " 'Ireland',\n",
       " 'Ireland',\n",
       " 'Italy',\n",
       " 'Libya',\n",
       " 'Libya',\n",
       " 'Libya',\n",
       " 'Libya',\n",
       " 'Libya',\n",
       " 'Libya',\n",
       " 'Mali',\n",
       " 'Mali',\n",
       " 'Mexico',\n",
       " 'Mexico',\n",
       " 'Mozambique',\n",
       " 'Myanmar',\n",
       " 'Myanmar',\n",
       " 'Myanmar',\n",
       " 'Myanmar',\n",
       " 'Myanmar',\n",
       " 'Nigeria',\n",
       " 'Nigeria',\n",
       " 'Nigeria',\n",
       " 'Nigeria',\n",
       " 'Nigeria',\n",
       " 'Nigeria',\n",
       " 'Nigeria',\n",
       " 'Nigeria',\n",
       " 'Nigeria',\n",
       " 'Nigeria',\n",
       " 'Nigeria',\n",
       " 'Nigeria',\n",
       " 'Nigeria',\n",
       " 'Nigeria',\n",
       " 'Nigeria',\n",
       " 'Nigeria',\n",
       " 'Pakistan',\n",
       " 'Pakistan',\n",
       " 'Pakistan',\n",
       " 'Pakistan',\n",
       " 'Pakistan',\n",
       " 'Pakistan',\n",
       " 'Pakistan',\n",
       " 'Pakistan',\n",
       " 'Palestine',\n",
       " 'Palestine',\n",
       " 'Palestine',\n",
       " 'Palestine',\n",
       " 'Paraguay',\n",
       " 'Paraguay',\n",
       " 'Paraguay',\n",
       " 'Peru',\n",
       " 'Philippines',\n",
       " 'Philippines',\n",
       " 'Philippines',\n",
       " 'Senegal',\n",
       " 'South Sudan',\n",
       " 'South Sudan',\n",
       " 'South Sudan',\n",
       " 'South Sudan',\n",
       " 'Sudan',\n",
       " 'Sudan',\n",
       " 'Sudan',\n",
       " 'Sudan',\n",
       " 'Sudan',\n",
       " 'Sudan',\n",
       " 'Sudan',\n",
       " 'Sudan',\n",
       " 'Syria',\n",
       " 'Syria',\n",
       " 'Syria',\n",
       " 'Syria',\n",
       " 'Thailand',\n",
       " 'Thailand',\n",
       " 'Thailand',\n",
       " 'Thailand',\n",
       " 'Thailand',\n",
       " 'Tunisia',\n",
       " 'Tunisia',\n",
       " 'Turkey',\n",
       " 'Turkey',\n",
       " 'Turkey',\n",
       " 'Turkey',\n",
       " 'Turkey',\n",
       " 'Turkey',\n",
       " 'Turkey',\n",
       " 'Turkey',\n",
       " 'Turkey',\n",
       " 'Turkey',\n",
       " 'Uganda',\n",
       " 'United Kingdom',\n",
       " 'United Kingdom',\n",
       " 'United Kingdom',\n",
       " 'United Kingdom',\n",
       " 'United Kingdom',\n",
       " 'United Kingdom',\n",
       " 'Yemen',\n",
       " 'Yemen']"
      ]
     },
     "execution_count": 19,
     "metadata": {},
     "output_type": "execute_result"
    }
   ],
   "source": [
    "theRebels.State.to_list()"
   ]
  },
  {
   "cell_type": "code",
   "execution_count": 20,
   "id": "7269f1c0",
   "metadata": {},
   "outputs": [
    {
     "data": {
      "text/plain": [
       "0      Multinational:,Democratic Republic of the Cong...\n",
       "1      Multinational:,Algeria,Bangladesh,Burkina Faso...\n",
       "2      Multinational:,Afghanistan,Algeria,Bangladesh,...\n",
       "3      Multinational:,Afghanistan,Iran,Pakistan,Syria...\n",
       "4      Multinational:,Indonesia,Malaysia,Philippines,...\n",
       "                             ...                        \n",
       "180                                       United Kingdom\n",
       "181                                       United Kingdom\n",
       "182                                       United Kingdom\n",
       "183                                                Yemen\n",
       "184                                                Yemen\n",
       "Name: State, Length: 185, dtype: object"
      ]
     },
     "execution_count": 20,
     "metadata": {},
     "output_type": "execute_result"
    }
   ],
   "source": [
    "theRebels.State=theRebels.State.str.replace('\\xa0',\",\",regex=False)\n",
    "theRebels.State"
   ]
  },
  {
   "cell_type": "code",
   "execution_count": 21,
   "id": "7fdcffb2",
   "metadata": {},
   "outputs": [
    {
     "data": {
      "text/plain": [
       "0      Multinational:,Democratic Republic of the Cong...\n",
       "1      Multinational:,Algeria,Bangladesh,Burkina Faso...\n",
       "2      Multinational:,Afghanistan,Algeria,Bangladesh,...\n",
       "3      Multinational:,Afghanistan,Iran,Pakistan,Syria...\n",
       "4      Multinational:,Indonesia,Malaysia,Philippines,...\n",
       "                             ...                        \n",
       "180                                       United Kingdom\n",
       "181                                       United Kingdom\n",
       "182                                       United Kingdom\n",
       "183                                                Yemen\n",
       "184                                                Yemen\n",
       "Name: State, Length: 185, dtype: object"
      ]
     },
     "execution_count": 21,
     "metadata": {},
     "output_type": "execute_result"
    }
   ],
   "source": [
    "theRebels.State=theRebels.State.str.replace('^\\,',\"\",regex=True)\n",
    "theRebels.State"
   ]
  },
  {
   "cell_type": "markdown",
   "id": "18837c55",
   "metadata": {},
   "source": [
    "The capitalization is an important decision, for that you can use:\n",
    "\n",
    "* str.lower(): all to lowercase.\n",
    "\n",
    "* str.upper(): ALL TO UPPERCASE.\n",
    "\n",
    "* str.title(): First Character Of Each Word To Uppercase. \n",
    "\n",
    "* str.capitalize(): First character to uppercase and remaining to lowercase.\n",
    "\n",
    "**You can only apply this if the cells are strings.**\n",
    "\n",
    "For example:"
   ]
  },
  {
   "cell_type": "code",
   "execution_count": 22,
   "id": "3c9f6b40",
   "metadata": {},
   "outputs": [],
   "source": [
    "theRebels['state']=theRebels.State.str.lower()\n",
    "theRebels['STATE']=theRebels.State.astype('string').str.upper()#just in case!"
   ]
  },
  {
   "cell_type": "code",
   "execution_count": 23,
   "id": "37cae2c6",
   "metadata": {},
   "outputs": [
    {
     "data": {
      "text/html": [
       "<div>\n",
       "<style scoped>\n",
       "    .dataframe tbody tr th:only-of-type {\n",
       "        vertical-align: middle;\n",
       "    }\n",
       "\n",
       "    .dataframe tbody tr th {\n",
       "        vertical-align: top;\n",
       "    }\n",
       "\n",
       "    .dataframe thead th {\n",
       "        text-align: right;\n",
       "    }\n",
       "</style>\n",
       "<table border=\"1\" class=\"dataframe\">\n",
       "  <thead>\n",
       "    <tr style=\"text-align: right;\">\n",
       "      <th></th>\n",
       "      <th>State</th>\n",
       "      <th>state</th>\n",
       "      <th>STATE</th>\n",
       "    </tr>\n",
       "  </thead>\n",
       "  <tbody>\n",
       "    <tr>\n",
       "      <th>0</th>\n",
       "      <td>Multinational:,Democratic Republic of the Cong...</td>\n",
       "      <td>multinational:,democratic republic of the cong...</td>\n",
       "      <td>MULTINATIONAL:,DEMOCRATIC REPUBLIC OF THE CONG...</td>\n",
       "    </tr>\n",
       "    <tr>\n",
       "      <th>1</th>\n",
       "      <td>Multinational:,Algeria,Bangladesh,Burkina Faso...</td>\n",
       "      <td>multinational:,algeria,bangladesh,burkina faso...</td>\n",
       "      <td>MULTINATIONAL:,ALGERIA,BANGLADESH,BURKINA FASO...</td>\n",
       "    </tr>\n",
       "    <tr>\n",
       "      <th>2</th>\n",
       "      <td>Multinational:,Afghanistan,Algeria,Bangladesh,...</td>\n",
       "      <td>multinational:,afghanistan,algeria,bangladesh,...</td>\n",
       "      <td>MULTINATIONAL:,AFGHANISTAN,ALGERIA,BANGLADESH,...</td>\n",
       "    </tr>\n",
       "    <tr>\n",
       "      <th>3</th>\n",
       "      <td>Multinational:,Afghanistan,Iran,Pakistan,Syria...</td>\n",
       "      <td>multinational:,afghanistan,iran,pakistan,syria...</td>\n",
       "      <td>MULTINATIONAL:,AFGHANISTAN,IRAN,PAKISTAN,SYRIA...</td>\n",
       "    </tr>\n",
       "    <tr>\n",
       "      <th>4</th>\n",
       "      <td>Multinational:,Indonesia,Malaysia,Philippines,...</td>\n",
       "      <td>multinational:,indonesia,malaysia,philippines,...</td>\n",
       "      <td>MULTINATIONAL:,INDONESIA,MALAYSIA,PHILIPPINES,...</td>\n",
       "    </tr>\n",
       "  </tbody>\n",
       "</table>\n",
       "</div>"
      ],
      "text/plain": [
       "                                               State  \\\n",
       "0  Multinational:,Democratic Republic of the Cong...   \n",
       "1  Multinational:,Algeria,Bangladesh,Burkina Faso...   \n",
       "2  Multinational:,Afghanistan,Algeria,Bangladesh,...   \n",
       "3  Multinational:,Afghanistan,Iran,Pakistan,Syria...   \n",
       "4  Multinational:,Indonesia,Malaysia,Philippines,...   \n",
       "\n",
       "                                               state  \\\n",
       "0  multinational:,democratic republic of the cong...   \n",
       "1  multinational:,algeria,bangladesh,burkina faso...   \n",
       "2  multinational:,afghanistan,algeria,bangladesh,...   \n",
       "3  multinational:,afghanistan,iran,pakistan,syria...   \n",
       "4  multinational:,indonesia,malaysia,philippines,...   \n",
       "\n",
       "                                               STATE  \n",
       "0  MULTINATIONAL:,DEMOCRATIC REPUBLIC OF THE CONG...  \n",
       "1  MULTINATIONAL:,ALGERIA,BANGLADESH,BURKINA FASO...  \n",
       "2  MULTINATIONAL:,AFGHANISTAN,ALGERIA,BANGLADESH,...  \n",
       "3  MULTINATIONAL:,AFGHANISTAN,IRAN,PAKISTAN,SYRIA...  \n",
       "4  MULTINATIONAL:,INDONESIA,MALAYSIA,PHILIPPINES,...  "
      ]
     },
     "execution_count": 23,
     "metadata": {},
     "output_type": "execute_result"
    }
   ],
   "source": [
    "theRebels[['State','state','STATE']].head()"
   ]
  },
  {
   "cell_type": "markdown",
   "id": "fdf1150a",
   "metadata": {},
   "source": [
    "We could also have a column where there are no spaces between the country name:"
   ]
  },
  {
   "cell_type": "code",
   "execution_count": 24,
   "id": "b76c7ae6",
   "metadata": {},
   "outputs": [],
   "source": [
    "theRebels['StateName']=theRebels.State.str.title().str.replace('\\s',\"\",regex=True)"
   ]
  },
  {
   "cell_type": "code",
   "execution_count": 25,
   "id": "919ddcb3",
   "metadata": {},
   "outputs": [
    {
     "data": {
      "text/plain": [
       "0      Multinational:,DemocraticRepublicOfTheCongo,Ug...\n",
       "1      Multinational:,Algeria,Bangladesh,BurkinaFaso,...\n",
       "2      Multinational:,Afghanistan,Algeria,Bangladesh,...\n",
       "3      Multinational:,Afghanistan,Iran,Pakistan,Syria...\n",
       "4      Multinational:,Indonesia,Malaysia,Philippines,...\n",
       "                             ...                        \n",
       "180                                        UnitedKingdom\n",
       "181                                        UnitedKingdom\n",
       "182                                        UnitedKingdom\n",
       "183                                                Yemen\n",
       "184                                                Yemen\n",
       "Name: StateName, Length: 185, dtype: object"
      ]
     },
     "execution_count": 25,
     "metadata": {},
     "output_type": "execute_result"
    }
   ],
   "source": [
    "theRebels['StateName']"
   ]
  },
  {
   "cell_type": "markdown",
   "id": "f1c39408",
   "metadata": {},
   "source": [
    "Let's save what we have:"
   ]
  },
  {
   "cell_type": "code",
   "execution_count": null,
   "id": "318040e8",
   "metadata": {},
   "outputs": [],
   "source": [
    "import os\n",
    "\n",
    "where=os.path.join('DataFiles','rebelData.csv')\n",
    "theRebels.to_csv(where,index=False)"
   ]
  },
  {
   "cell_type": "markdown",
   "id": "f5afcb28",
   "metadata": {},
   "source": [
    "### Exercise\n",
    "\n",
    "Creat a column **statesCount**, that for each row, tells you the amount of states."
   ]
  },
  {
   "cell_type": "code",
   "execution_count": null,
   "id": "0ef088bb",
   "metadata": {},
   "outputs": [],
   "source": []
  }
 ],
 "metadata": {
  "kernelspec": {
   "display_name": "Python 3 (ipykernel)",
   "language": "python",
   "name": "python3"
  },
  "language_info": {
   "codemirror_mode": {
    "name": "ipython",
    "version": 3
   },
   "file_extension": ".py",
   "mimetype": "text/x-python",
   "name": "python",
   "nbconvert_exporter": "python",
   "pygments_lexer": "ipython3",
   "version": "3.9.12"
  }
 },
 "nbformat": 4,
 "nbformat_minor": 5
}
