{
 "cells": [
  {
   "cell_type": "markdown",
   "id": "402943b1",
   "metadata": {},
   "source": [
    "# Formatting Data (geometry)\n",
    "\n",
    "\n",
    "In general, you need to format geometry when you get coordinates."
   ]
  },
  {
   "cell_type": "code",
   "execution_count": 5,
   "id": "75f3c948",
   "metadata": {},
   "outputs": [
    {
     "data": {
      "text/html": [
       "<div>\n",
       "<style scoped>\n",
       "    .dataframe tbody tr th:only-of-type {\n",
       "        vertical-align: middle;\n",
       "    }\n",
       "\n",
       "    .dataframe tbody tr th {\n",
       "        vertical-align: top;\n",
       "    }\n",
       "\n",
       "    .dataframe thead th {\n",
       "        text-align: right;\n",
       "    }\n",
       "</style>\n",
       "<table border=\"1\" class=\"dataframe\">\n",
       "  <thead>\n",
       "    <tr style=\"text-align: right;\">\n",
       "      <th></th>\n",
       "      <th>address</th>\n",
       "      <th>type</th>\n",
       "      <th>datetime</th>\n",
       "      <th>latitude</th>\n",
       "      <th>longitude</th>\n",
       "      <th>report_location</th>\n",
       "      <th>incident_number</th>\n",
       "      <th>date</th>\n",
       "      <th>year</th>\n",
       "      <th>month</th>\n",
       "      <th>weekday</th>\n",
       "      <th>hour</th>\n",
       "      <th>nightTime</th>\n",
       "    </tr>\n",
       "  </thead>\n",
       "  <tbody>\n",
       "    <tr>\n",
       "      <th>0</th>\n",
       "      <td>4th Ave N / Mercer St</td>\n",
       "      <td>Triaged Incident</td>\n",
       "      <td>2022-08-18 10:15:00</td>\n",
       "      <td>47.624564</td>\n",
       "      <td>-122.348877</td>\n",
       "      <td>{'type': 'Point', 'coordinates': [-122.348877,...</td>\n",
       "      <td>F220099503</td>\n",
       "      <td>2022-08-18</td>\n",
       "      <td>2022</td>\n",
       "      <td>August</td>\n",
       "      <td>Thursday</td>\n",
       "      <td>10</td>\n",
       "      <td>False</td>\n",
       "    </tr>\n",
       "    <tr>\n",
       "      <th>1</th>\n",
       "      <td>815 S Dearborn St</td>\n",
       "      <td>Investigate Out Of Service</td>\n",
       "      <td>2022-08-18 10:08:00</td>\n",
       "      <td>47.595831</td>\n",
       "      <td>-122.322292</td>\n",
       "      <td>{'type': 'Point', 'coordinates': [-122.322292,...</td>\n",
       "      <td>F220099502</td>\n",
       "      <td>2022-08-18</td>\n",
       "      <td>2022</td>\n",
       "      <td>August</td>\n",
       "      <td>Thursday</td>\n",
       "      <td>10</td>\n",
       "      <td>False</td>\n",
       "    </tr>\n",
       "    <tr>\n",
       "      <th>2</th>\n",
       "      <td>9401 Myers Way S</td>\n",
       "      <td>Triaged Incident</td>\n",
       "      <td>2022-08-18 10:07:00</td>\n",
       "      <td>47.518658</td>\n",
       "      <td>-122.333265</td>\n",
       "      <td>{'type': 'Point', 'coordinates': [-122.333265,...</td>\n",
       "      <td>F220099501</td>\n",
       "      <td>2022-08-18</td>\n",
       "      <td>2022</td>\n",
       "      <td>August</td>\n",
       "      <td>Thursday</td>\n",
       "      <td>10</td>\n",
       "      <td>False</td>\n",
       "    </tr>\n",
       "    <tr>\n",
       "      <th>3</th>\n",
       "      <td>11030 5th Ave Ne</td>\n",
       "      <td>Auto Fire Alarm</td>\n",
       "      <td>2022-08-18 09:11:00</td>\n",
       "      <td>47.709488</td>\n",
       "      <td>-122.323301</td>\n",
       "      <td>{'type': 'Point', 'coordinates': [-122.323301,...</td>\n",
       "      <td>F220099179</td>\n",
       "      <td>2022-08-18</td>\n",
       "      <td>2022</td>\n",
       "      <td>August</td>\n",
       "      <td>Thursday</td>\n",
       "      <td>9</td>\n",
       "      <td>False</td>\n",
       "    </tr>\n",
       "    <tr>\n",
       "      <th>4</th>\n",
       "      <td>3013 Harvard Ave E</td>\n",
       "      <td>MVI - Motor Vehicle Incident</td>\n",
       "      <td>2022-08-18 09:06:00</td>\n",
       "      <td>47.647935</td>\n",
       "      <td>-122.322101</td>\n",
       "      <td>{'type': 'Point', 'coordinates': [-122.322101,...</td>\n",
       "      <td>F220099178</td>\n",
       "      <td>2022-08-18</td>\n",
       "      <td>2022</td>\n",
       "      <td>August</td>\n",
       "      <td>Thursday</td>\n",
       "      <td>9</td>\n",
       "      <td>False</td>\n",
       "    </tr>\n",
       "  </tbody>\n",
       "</table>\n",
       "</div>"
      ],
      "text/plain": [
       "                 address                          type            datetime  \\\n",
       "0  4th Ave N / Mercer St              Triaged Incident 2022-08-18 10:15:00   \n",
       "1      815 S Dearborn St    Investigate Out Of Service 2022-08-18 10:08:00   \n",
       "2       9401 Myers Way S              Triaged Incident 2022-08-18 10:07:00   \n",
       "3       11030 5th Ave Ne               Auto Fire Alarm 2022-08-18 09:11:00   \n",
       "4     3013 Harvard Ave E  MVI - Motor Vehicle Incident 2022-08-18 09:06:00   \n",
       "\n",
       "    latitude    longitude                                    report_location  \\\n",
       "0  47.624564  -122.348877  {'type': 'Point', 'coordinates': [-122.348877,...   \n",
       "1  47.595831  -122.322292  {'type': 'Point', 'coordinates': [-122.322292,...   \n",
       "2  47.518658  -122.333265  {'type': 'Point', 'coordinates': [-122.333265,...   \n",
       "3  47.709488  -122.323301  {'type': 'Point', 'coordinates': [-122.323301,...   \n",
       "4  47.647935  -122.322101  {'type': 'Point', 'coordinates': [-122.322101,...   \n",
       "\n",
       "  incident_number        date  year   month   weekday  hour  nightTime  \n",
       "0      F220099503  2022-08-18  2022  August  Thursday    10      False  \n",
       "1      F220099502  2022-08-18  2022  August  Thursday    10      False  \n",
       "2      F220099501  2022-08-18  2022  August  Thursday    10      False  \n",
       "3      F220099179  2022-08-18  2022  August  Thursday     9      False  \n",
       "4      F220099178  2022-08-18  2022  August  Thursday     9      False  "
      ]
     },
     "execution_count": 5,
     "metadata": {},
     "output_type": "execute_result"
    }
   ],
   "source": [
    "import pandas as pd\n",
    "import os\n",
    "\n",
    "where=os.path.join('DataFiles','calls911.pkl')\n",
    "calls911=pd.read_pickle(where)\n",
    "calls911.head()"
   ]
  },
  {
   "cell_type": "markdown",
   "id": "33d1b686",
   "metadata": {},
   "source": [
    "You know the call identify the location of the incident. Then you are interested in representing that coordinates in a map. You have this map:"
   ]
  },
  {
   "cell_type": "code",
   "execution_count": 6,
   "id": "949f3baf",
   "metadata": {},
   "outputs": [
    {
     "ename": "DriverError",
     "evalue": "DataFiles\\Census_Tracts_2010.geojson: No such file or directory",
     "output_type": "error",
     "traceback": [
      "\u001b[1;31m---------------------------------------------------------------------------\u001b[0m",
      "\u001b[1;31mCPLE_OpenFailedError\u001b[0m                      Traceback (most recent call last)",
      "File \u001b[1;32mfiona/_shim.pyx:83\u001b[0m, in \u001b[0;36mfiona._shim.gdal_open_vector\u001b[1;34m()\u001b[0m\n",
      "File \u001b[1;32mfiona/_err.pyx:270\u001b[0m, in \u001b[0;36mfiona._err.exc_wrap_pointer\u001b[1;34m()\u001b[0m\n",
      "\u001b[1;31mCPLE_OpenFailedError\u001b[0m: DataFiles\\Census_Tracts_2010.geojson: No such file or directory",
      "\nDuring handling of the above exception, another exception occurred:\n",
      "\u001b[1;31mDriverError\u001b[0m                               Traceback (most recent call last)",
      "Input \u001b[1;32mIn [6]\u001b[0m, in \u001b[0;36m<cell line: 4>\u001b[1;34m()\u001b[0m\n\u001b[0;32m      1\u001b[0m \u001b[38;5;28;01mimport\u001b[39;00m \u001b[38;5;21;01mgeopandas\u001b[39;00m \u001b[38;5;28;01mas\u001b[39;00m \u001b[38;5;21;01mgpd\u001b[39;00m\n\u001b[0;32m      3\u001b[0m theMapFile\u001b[38;5;241m=\u001b[39mos\u001b[38;5;241m.\u001b[39mpath\u001b[38;5;241m.\u001b[39mjoin(\u001b[38;5;124m\"\u001b[39m\u001b[38;5;124mDataFiles\u001b[39m\u001b[38;5;124m\"\u001b[39m,\u001b[38;5;124m\"\u001b[39m\u001b[38;5;124mCensus_Tracts_2010.geojson\u001b[39m\u001b[38;5;124m\"\u001b[39m)\n\u001b[1;32m----> 4\u001b[0m calls911\u001b[38;5;241m.\u001b[39mpkl\u001b[38;5;241m=\u001b[39m\u001b[43mgpd\u001b[49m\u001b[38;5;241;43m.\u001b[39;49m\u001b[43mread_file\u001b[49m\u001b[43m(\u001b[49m\u001b[43mtheMapFile\u001b[49m\u001b[43m)\u001b[49m\n\u001b[0;32m      5\u001b[0m calls911\u001b[38;5;241m.\u001b[39mpkl\u001b[38;5;241m.\u001b[39mplot()\n",
      "File \u001b[1;32m~\\anaconda3\\envs\\FGV\\lib\\site-packages\\geopandas\\io\\file.py:160\u001b[0m, in \u001b[0;36m_read_file\u001b[1;34m(filename, bbox, mask, rows, **kwargs)\u001b[0m\n\u001b[0;32m    157\u001b[0m     reader \u001b[38;5;241m=\u001b[39m fiona\u001b[38;5;241m.\u001b[39mopen\n\u001b[0;32m    159\u001b[0m \u001b[38;5;28;01mwith\u001b[39;00m fiona_env():\n\u001b[1;32m--> 160\u001b[0m     \u001b[38;5;28;01mwith\u001b[39;00m reader(path_or_bytes, \u001b[38;5;241m*\u001b[39m\u001b[38;5;241m*\u001b[39mkwargs) \u001b[38;5;28;01mas\u001b[39;00m features:\n\u001b[0;32m    161\u001b[0m \n\u001b[0;32m    162\u001b[0m         \u001b[38;5;66;03m# In a future Fiona release the crs attribute of features will\u001b[39;00m\n\u001b[0;32m    163\u001b[0m         \u001b[38;5;66;03m# no longer be a dict, but will behave like a dict. So this should\u001b[39;00m\n\u001b[0;32m    164\u001b[0m         \u001b[38;5;66;03m# be forwards compatible\u001b[39;00m\n\u001b[0;32m    165\u001b[0m         crs \u001b[38;5;241m=\u001b[39m (\n\u001b[0;32m    166\u001b[0m             features\u001b[38;5;241m.\u001b[39mcrs[\u001b[38;5;124m\"\u001b[39m\u001b[38;5;124minit\u001b[39m\u001b[38;5;124m\"\u001b[39m]\n\u001b[0;32m    167\u001b[0m             \u001b[38;5;28;01mif\u001b[39;00m features\u001b[38;5;241m.\u001b[39mcrs \u001b[38;5;129;01mand\u001b[39;00m \u001b[38;5;124m\"\u001b[39m\u001b[38;5;124minit\u001b[39m\u001b[38;5;124m\"\u001b[39m \u001b[38;5;129;01min\u001b[39;00m features\u001b[38;5;241m.\u001b[39mcrs\n\u001b[0;32m    168\u001b[0m             \u001b[38;5;28;01melse\u001b[39;00m features\u001b[38;5;241m.\u001b[39mcrs_wkt\n\u001b[0;32m    169\u001b[0m         )\n\u001b[0;32m    171\u001b[0m         \u001b[38;5;66;03m# handle loading the bounding box\u001b[39;00m\n",
      "File \u001b[1;32m~\\anaconda3\\envs\\FGV\\lib\\site-packages\\fiona\\env.py:398\u001b[0m, in \u001b[0;36mensure_env_with_credentials.<locals>.wrapper\u001b[1;34m(*args, **kwargs)\u001b[0m\n\u001b[0;32m    395\u001b[0m \u001b[38;5;129m@wraps\u001b[39m(f)\n\u001b[0;32m    396\u001b[0m \u001b[38;5;28;01mdef\u001b[39;00m \u001b[38;5;21mwrapper\u001b[39m(\u001b[38;5;241m*\u001b[39margs, \u001b[38;5;241m*\u001b[39m\u001b[38;5;241m*\u001b[39mkwargs):\n\u001b[0;32m    397\u001b[0m     \u001b[38;5;28;01mif\u001b[39;00m local\u001b[38;5;241m.\u001b[39m_env:\n\u001b[1;32m--> 398\u001b[0m         \u001b[38;5;28;01mreturn\u001b[39;00m f(\u001b[38;5;241m*\u001b[39margs, \u001b[38;5;241m*\u001b[39m\u001b[38;5;241m*\u001b[39mkwargs)\n\u001b[0;32m    399\u001b[0m     \u001b[38;5;28;01melse\u001b[39;00m:\n\u001b[0;32m    400\u001b[0m         \u001b[38;5;28;01mif\u001b[39;00m \u001b[38;5;28misinstance\u001b[39m(args[\u001b[38;5;241m0\u001b[39m], \u001b[38;5;28mstr\u001b[39m):\n",
      "File \u001b[1;32m~\\anaconda3\\envs\\FGV\\lib\\site-packages\\fiona\\__init__.py:253\u001b[0m, in \u001b[0;36mopen\u001b[1;34m(fp, mode, driver, schema, crs, encoding, layer, vfs, enabled_drivers, crs_wkt, **kwargs)\u001b[0m\n\u001b[0;32m    250\u001b[0m     path \u001b[38;5;241m=\u001b[39m parse_path(fp)\n\u001b[0;32m    252\u001b[0m \u001b[38;5;28;01mif\u001b[39;00m mode \u001b[38;5;129;01min\u001b[39;00m (\u001b[38;5;124m'\u001b[39m\u001b[38;5;124ma\u001b[39m\u001b[38;5;124m'\u001b[39m, \u001b[38;5;124m'\u001b[39m\u001b[38;5;124mr\u001b[39m\u001b[38;5;124m'\u001b[39m):\n\u001b[1;32m--> 253\u001b[0m     c \u001b[38;5;241m=\u001b[39m Collection(path, mode, driver\u001b[38;5;241m=\u001b[39mdriver, encoding\u001b[38;5;241m=\u001b[39mencoding,\n\u001b[0;32m    254\u001b[0m                    layer\u001b[38;5;241m=\u001b[39mlayer, enabled_drivers\u001b[38;5;241m=\u001b[39menabled_drivers, \u001b[38;5;241m*\u001b[39m\u001b[38;5;241m*\u001b[39mkwargs)\n\u001b[0;32m    255\u001b[0m \u001b[38;5;28;01melif\u001b[39;00m mode \u001b[38;5;241m==\u001b[39m \u001b[38;5;124m'\u001b[39m\u001b[38;5;124mw\u001b[39m\u001b[38;5;124m'\u001b[39m:\n\u001b[0;32m    256\u001b[0m     \u001b[38;5;28;01mif\u001b[39;00m schema:\n\u001b[0;32m    257\u001b[0m         \u001b[38;5;66;03m# Make an ordered dict of schema properties.\u001b[39;00m\n",
      "File \u001b[1;32m~\\anaconda3\\envs\\FGV\\lib\\site-packages\\fiona\\collection.py:154\u001b[0m, in \u001b[0;36mCollection.__init__\u001b[1;34m(self, path, mode, driver, schema, crs, encoding, layer, vsi, archive, enabled_drivers, crs_wkt, ignore_fields, ignore_geometry, **kwargs)\u001b[0m\n\u001b[0;32m    152\u001b[0m \u001b[38;5;28;01mif\u001b[39;00m \u001b[38;5;28mself\u001b[39m\u001b[38;5;241m.\u001b[39mmode \u001b[38;5;241m==\u001b[39m \u001b[38;5;124m'\u001b[39m\u001b[38;5;124mr\u001b[39m\u001b[38;5;124m'\u001b[39m:\n\u001b[0;32m    153\u001b[0m     \u001b[38;5;28mself\u001b[39m\u001b[38;5;241m.\u001b[39msession \u001b[38;5;241m=\u001b[39m Session()\n\u001b[1;32m--> 154\u001b[0m     \u001b[38;5;28mself\u001b[39m\u001b[38;5;241m.\u001b[39msession\u001b[38;5;241m.\u001b[39mstart(\u001b[38;5;28mself\u001b[39m, \u001b[38;5;241m*\u001b[39m\u001b[38;5;241m*\u001b[39mkwargs)\n\u001b[0;32m    155\u001b[0m \u001b[38;5;28;01melif\u001b[39;00m \u001b[38;5;28mself\u001b[39m\u001b[38;5;241m.\u001b[39mmode \u001b[38;5;129;01min\u001b[39;00m (\u001b[38;5;124m'\u001b[39m\u001b[38;5;124ma\u001b[39m\u001b[38;5;124m'\u001b[39m, \u001b[38;5;124m'\u001b[39m\u001b[38;5;124mw\u001b[39m\u001b[38;5;124m'\u001b[39m):\n\u001b[0;32m    156\u001b[0m     \u001b[38;5;28mself\u001b[39m\u001b[38;5;241m.\u001b[39msession \u001b[38;5;241m=\u001b[39m WritingSession()\n",
      "File \u001b[1;32mfiona/ogrext.pyx:484\u001b[0m, in \u001b[0;36mfiona.ogrext.Session.start\u001b[1;34m()\u001b[0m\n",
      "File \u001b[1;32mfiona/_shim.pyx:90\u001b[0m, in \u001b[0;36mfiona._shim.gdal_open_vector\u001b[1;34m()\u001b[0m\n",
      "\u001b[1;31mDriverError\u001b[0m: DataFiles\\Census_Tracts_2010.geojson: No such file or directory"
     ]
    }
   ],
   "source": [
    "import geopandas as gpd\n",
    "\n",
    "theMapFile=os.path.join(\"DataFiles\",\"Census_Tracts_2010.geojson\")\n",
    "seattleMap=gpd.read_file(theMapFile)\n",
    "seattleMap.plot()"
   ]
  },
  {
   "cell_type": "markdown",
   "id": "86c2a182",
   "metadata": {},
   "source": [
    "The map came from a geojson file. It is a common format these days. However, the more familiar format has always been the shapefile (**.shp**)\n",
    "\n",
    "All maps are a **projection** of our 3D world. So, maps, 2D objects, should let us know that:"
   ]
  },
  {
   "cell_type": "code",
   "execution_count": 7,
   "id": "81db838e",
   "metadata": {
    "scrolled": false
   },
   "outputs": [
    {
     "ename": "AttributeError",
     "evalue": "'DataFrame' object has no attribute 'pkl'",
     "output_type": "error",
     "traceback": [
      "\u001b[1;31m---------------------------------------------------------------------------\u001b[0m",
      "\u001b[1;31mAttributeError\u001b[0m                            Traceback (most recent call last)",
      "Input \u001b[1;32mIn [7]\u001b[0m, in \u001b[0;36m<cell line: 2>\u001b[1;34m()\u001b[0m\n\u001b[0;32m      1\u001b[0m \u001b[38;5;66;03m# projection info is not here!!\u001b[39;00m\n\u001b[1;32m----> 2\u001b[0m \u001b[43mcalls911\u001b[49m\u001b[38;5;241;43m.\u001b[39;49m\u001b[43mpkl\u001b[49m\u001b[38;5;241m.\u001b[39minfo()\n",
      "File \u001b[1;32m~\\anaconda3\\envs\\FGV\\lib\\site-packages\\pandas\\core\\generic.py:5575\u001b[0m, in \u001b[0;36mNDFrame.__getattr__\u001b[1;34m(self, name)\u001b[0m\n\u001b[0;32m   5568\u001b[0m \u001b[38;5;28;01mif\u001b[39;00m (\n\u001b[0;32m   5569\u001b[0m     name \u001b[38;5;129;01mnot\u001b[39;00m \u001b[38;5;129;01min\u001b[39;00m \u001b[38;5;28mself\u001b[39m\u001b[38;5;241m.\u001b[39m_internal_names_set\n\u001b[0;32m   5570\u001b[0m     \u001b[38;5;129;01mand\u001b[39;00m name \u001b[38;5;129;01mnot\u001b[39;00m \u001b[38;5;129;01min\u001b[39;00m \u001b[38;5;28mself\u001b[39m\u001b[38;5;241m.\u001b[39m_metadata\n\u001b[0;32m   5571\u001b[0m     \u001b[38;5;129;01mand\u001b[39;00m name \u001b[38;5;129;01mnot\u001b[39;00m \u001b[38;5;129;01min\u001b[39;00m \u001b[38;5;28mself\u001b[39m\u001b[38;5;241m.\u001b[39m_accessors\n\u001b[0;32m   5572\u001b[0m     \u001b[38;5;129;01mand\u001b[39;00m \u001b[38;5;28mself\u001b[39m\u001b[38;5;241m.\u001b[39m_info_axis\u001b[38;5;241m.\u001b[39m_can_hold_identifiers_and_holds_name(name)\n\u001b[0;32m   5573\u001b[0m ):\n\u001b[0;32m   5574\u001b[0m     \u001b[38;5;28;01mreturn\u001b[39;00m \u001b[38;5;28mself\u001b[39m[name]\n\u001b[1;32m-> 5575\u001b[0m \u001b[38;5;28;01mreturn\u001b[39;00m \u001b[38;5;28;43mobject\u001b[39;49m\u001b[38;5;241;43m.\u001b[39;49m\u001b[38;5;21;43m__getattribute__\u001b[39;49m\u001b[43m(\u001b[49m\u001b[38;5;28;43mself\u001b[39;49m\u001b[43m,\u001b[49m\u001b[43m \u001b[49m\u001b[43mname\u001b[49m\u001b[43m)\u001b[49m\n",
      "\u001b[1;31mAttributeError\u001b[0m: 'DataFrame' object has no attribute 'pkl'"
     ]
    }
   ],
   "source": [
    "# projection info is not here!!\n",
    "seattleMap.info()"
   ]
  },
  {
   "cell_type": "code",
   "execution_count": null,
   "id": "02bc26c4",
   "metadata": {},
   "outputs": [],
   "source": [
    "# it is here\n",
    "seattleMap.crs"
   ]
  },
  {
   "cell_type": "markdown",
   "id": "adcb0a2a",
   "metadata": {},
   "source": [
    "The **report_location** column came from the original data in the _API_; it has the coordinates of the event, and it is very useful. I can recover that in Python as it is a dictionary."
   ]
  },
  {
   "cell_type": "code",
   "execution_count": 9,
   "id": "059281f8",
   "metadata": {
    "scrolled": false
   },
   "outputs": [
    {
     "ename": "AttributeError",
     "evalue": "'DataFrame' object has no attribute 'report_location'",
     "output_type": "error",
     "traceback": [
      "\u001b[1;31m---------------------------------------------------------------------------\u001b[0m",
      "\u001b[1;31mAttributeError\u001b[0m                            Traceback (most recent call last)",
      "Input \u001b[1;32mIn [9]\u001b[0m, in \u001b[0;36m<cell line: 1>\u001b[1;34m()\u001b[0m\n\u001b[1;32m----> 1\u001b[0m [x[\u001b[38;5;124m'\u001b[39m\u001b[38;5;124mcoordinates\u001b[39m\u001b[38;5;124m'\u001b[39m] \u001b[38;5;28;01mfor\u001b[39;00m x \u001b[38;5;129;01min\u001b[39;00m \u001b[43mcalls911\u001b[49m\u001b[38;5;241;43m.\u001b[39;49m\u001b[43mreport_location\u001b[49m[\u001b[38;5;241m1\u001b[39m:\u001b[38;5;241m10\u001b[39m]]\n",
      "File \u001b[1;32m~\\anaconda3\\envs\\FGV\\lib\\site-packages\\pandas\\core\\generic.py:5575\u001b[0m, in \u001b[0;36mNDFrame.__getattr__\u001b[1;34m(self, name)\u001b[0m\n\u001b[0;32m   5568\u001b[0m \u001b[38;5;28;01mif\u001b[39;00m (\n\u001b[0;32m   5569\u001b[0m     name \u001b[38;5;129;01mnot\u001b[39;00m \u001b[38;5;129;01min\u001b[39;00m \u001b[38;5;28mself\u001b[39m\u001b[38;5;241m.\u001b[39m_internal_names_set\n\u001b[0;32m   5570\u001b[0m     \u001b[38;5;129;01mand\u001b[39;00m name \u001b[38;5;129;01mnot\u001b[39;00m \u001b[38;5;129;01min\u001b[39;00m \u001b[38;5;28mself\u001b[39m\u001b[38;5;241m.\u001b[39m_metadata\n\u001b[0;32m   5571\u001b[0m     \u001b[38;5;129;01mand\u001b[39;00m name \u001b[38;5;129;01mnot\u001b[39;00m \u001b[38;5;129;01min\u001b[39;00m \u001b[38;5;28mself\u001b[39m\u001b[38;5;241m.\u001b[39m_accessors\n\u001b[0;32m   5572\u001b[0m     \u001b[38;5;129;01mand\u001b[39;00m \u001b[38;5;28mself\u001b[39m\u001b[38;5;241m.\u001b[39m_info_axis\u001b[38;5;241m.\u001b[39m_can_hold_identifiers_and_holds_name(name)\n\u001b[0;32m   5573\u001b[0m ):\n\u001b[0;32m   5574\u001b[0m     \u001b[38;5;28;01mreturn\u001b[39;00m \u001b[38;5;28mself\u001b[39m[name]\n\u001b[1;32m-> 5575\u001b[0m \u001b[38;5;28;01mreturn\u001b[39;00m \u001b[38;5;28;43mobject\u001b[39;49m\u001b[38;5;241;43m.\u001b[39;49m\u001b[38;5;21;43m__getattribute__\u001b[39;49m\u001b[43m(\u001b[49m\u001b[38;5;28;43mself\u001b[39;49m\u001b[43m,\u001b[49m\u001b[43m \u001b[49m\u001b[43mname\u001b[49m\u001b[43m)\u001b[49m\n",
      "\u001b[1;31mAttributeError\u001b[0m: 'DataFrame' object has no attribute 'report_location'"
     ]
    }
   ],
   "source": [
    "[x['coordinates'] for x in calls911.report_location[1:10]]"
   ]
  },
  {
   "cell_type": "markdown",
   "id": "df1e65a1",
   "metadata": {},
   "source": [
    "Fortunately, we have already that information in the columns _longitude_ and _latitude_; so we can drop it:"
   ]
  },
  {
   "cell_type": "code",
   "execution_count": 8,
   "id": "8115195a",
   "metadata": {},
   "outputs": [],
   "source": [
    "calls911.drop(columns=[\"report_location\"],inplace=True)"
   ]
  },
  {
   "cell_type": "markdown",
   "id": "0f19a1f2",
   "metadata": {},
   "source": [
    "However, _longitude_ and _latitude_ are not numeric, then we need to format:"
   ]
  },
  {
   "cell_type": "code",
   "execution_count": 11,
   "id": "25b56d98",
   "metadata": {},
   "outputs": [],
   "source": [
    "calls911[['longitude','latitude']]=calls911[['longitude','latitude']].apply(lambda x:pd.to_numeric(x))"
   ]
  },
  {
   "cell_type": "markdown",
   "id": "b29d73c0",
   "metadata": {},
   "source": [
    "Let's pay plot the coordinates:"
   ]
  },
  {
   "cell_type": "code",
   "execution_count": 12,
   "id": "892223f1",
   "metadata": {},
   "outputs": [
    {
     "name": "stderr",
     "output_type": "stream",
     "text": [
      "Matplotlib is building the font cache; this may take a moment.\n"
     ]
    },
    {
     "data": {
      "text/plain": [
       "<AxesSubplot:xlabel='longitude', ylabel='latitude'>"
      ]
     },
     "execution_count": 12,
     "metadata": {},
     "output_type": "execute_result"
    },
    {
     "data": {
      "image/png": "[encoded data removed]",
      "text/plain": [
       "<Figure size 432x288 with 1 Axes>"
      ]
     },
     "metadata": {
      "needs_background": "light"
     },
     "output_type": "display_data"
    }
   ],
   "source": [
    "calls911.plot.scatter(x = 'longitude', y = 'latitude')"
   ]
  },
  {
   "cell_type": "markdown",
   "id": "d01d0247",
   "metadata": {},
   "source": [
    "Now, let's plot the coordinates on top of the map:"
   ]
  },
  {
   "cell_type": "code",
   "execution_count": 17,
   "id": "a39e3f17",
   "metadata": {},
   "outputs": [
    {
     "data": {
      "text/plain": [
       "<AxesSubplot:>"
      ]
     },
     "execution_count": 17,
     "metadata": {},
     "output_type": "execute_result"
    },
    {
     "data": {
      "image/png": "[encoded data removed]",
      "text/plain": [
       "<Figure size 432x288 with 1 Axes>"
      ]
     },
     "metadata": {
      "needs_background": "light"
     },
     "output_type": "display_data"
    }
   ],
   "source": [
    "import matplotlib.pyplot as plt\n",
    "ax = calls911_geo.plot(color='white',\n",
    "                  edgecolor='black')\n",
    "\n",
    "calls911[['longitude','latitude']].plot(ax=ax, color='red',markersize=0.5)\n",
    "\n",
    "#plt.show()"
   ]
  },
  {
   "cell_type": "markdown",
   "id": "9be9bab0",
   "metadata": {},
   "source": [
    "It fails as it is not a spatial data frame.\n",
    "\n",
    "The next step is to create a spatial dataframe for the 911 data. Let's use geopandas:"
   ]
  },
  {
   "cell_type": "code",
   "execution_count": 14,
   "id": "52829e1f",
   "metadata": {},
   "outputs": [
    {
     "data": {
      "text/plain": [
       "<Geographic 2D CRS: EPSG:4326>\n",
       "Name: WGS 84\n",
       "Axis Info [ellipsoidal]:\n",
       "- Lat[north]: Geodetic latitude (degree)\n",
       "- Lon[east]: Geodetic longitude (degree)\n",
       "Area of Use:\n",
       "- name: World\n",
       "- bounds: (-180.0, -90.0, 180.0, 90.0)\n",
       "Datum: World Geodetic System 1984\n",
       "- Ellipsoid: WGS 84\n",
       "- Prime Meridian: Greenwich"
      ]
     },
     "execution_count": 14,
     "metadata": {},
     "output_type": "execute_result"
    }
   ],
   "source": [
    "import geopandas as gpd\n",
    "\n",
    "pointsAsGeometry=gpd.points_from_xy(calls911.longitude,\n",
    "                                    calls911.latitude,crs=\"EPSG:4326\")\n",
    "\n",
    "calls911_geo = gpd.GeoDataFrame(calls911,\n",
    "                                geometry=pointsAsGeometry)\n",
    "\n",
    "# check:\n",
    "\n",
    "calls911_geo.crs"
   ]
  },
  {
   "cell_type": "markdown",
   "id": "d6bcec7e",
   "metadata": {},
   "source": [
    "Let's redo the previous _failed_ plot:"
   ]
  },
  {
   "cell_type": "code",
   "execution_count": 19,
   "id": "7202e215",
   "metadata": {},
   "outputs": [
    {
     "data": {
      "text/plain": [
       "<AxesSubplot:>"
      ]
     },
     "execution_count": 19,
     "metadata": {},
     "output_type": "execute_result"
    },
    {
     "data": {
      "image/png": "[encoded data removed]",
      "text/plain": [
       "<Figure size 432x288 with 1 Axes>"
      ]
     },
     "metadata": {
      "needs_background": "light"
     },
     "output_type": "display_data"
    }
   ],
   "source": [
    "#ax = seattleMap.plot(color='white',\n",
    "#                  edgecolor='black')\n",
    "\n",
    "calls911_geo.plot(color='green',\n",
    "                  markersize=0.5)\n",
    "#plt.show()"
   ]
  },
  {
   "cell_type": "markdown",
   "id": "883b0a79",
   "metadata": {},
   "source": [
    "Notice there is an event registered which is not in Seattle."
   ]
  },
  {
   "cell_type": "code",
   "execution_count": 20,
   "id": "4eb02f1a",
   "metadata": {},
   "outputs": [
    {
     "data": {
      "text/html": [
       "<div>\n",
       "<style scoped>\n",
       "    .dataframe tbody tr th:only-of-type {\n",
       "        vertical-align: middle;\n",
       "    }\n",
       "\n",
       "    .dataframe tbody tr th {\n",
       "        vertical-align: top;\n",
       "    }\n",
       "\n",
       "    .dataframe thead th {\n",
       "        text-align: right;\n",
       "    }\n",
       "</style>\n",
       "<table border=\"1\" class=\"dataframe\">\n",
       "  <thead>\n",
       "    <tr style=\"text-align: right;\">\n",
       "      <th></th>\n",
       "      <th>address</th>\n",
       "      <th>type</th>\n",
       "      <th>datetime</th>\n",
       "      <th>latitude</th>\n",
       "      <th>longitude</th>\n",
       "      <th>incident_number</th>\n",
       "      <th>date</th>\n",
       "      <th>year</th>\n",
       "      <th>month</th>\n",
       "      <th>weekday</th>\n",
       "      <th>hour</th>\n",
       "      <th>nightTime</th>\n",
       "      <th>geometry</th>\n",
       "    </tr>\n",
       "  </thead>\n",
       "  <tbody>\n",
       "    <tr>\n",
       "      <th>989</th>\n",
       "      <td>7244 S Ryan St</td>\n",
       "      <td>Water Job Minor</td>\n",
       "      <td>2022-08-15 12:14:00</td>\n",
       "      <td>47.509647</td>\n",
       "      <td>-122.243003</td>\n",
       "      <td>F220097831</td>\n",
       "      <td>2022-08-15</td>\n",
       "      <td>2022</td>\n",
       "      <td>August</td>\n",
       "      <td>Monday</td>\n",
       "      <td>12</td>\n",
       "      <td>False</td>\n",
       "      <td>POINT (-122.24300 47.50965)</td>\n",
       "    </tr>\n",
       "  </tbody>\n",
       "</table>\n",
       "</div>"
      ],
      "text/plain": [
       "            address             type            datetime   latitude  \\\n",
       "989  7244 S Ryan St  Water Job Minor 2022-08-15 12:14:00  47.509647   \n",
       "\n",
       "      longitude incident_number        date  year   month weekday  hour  \\\n",
       "989 -122.243003      F220097831  2022-08-15  2022  August  Monday    12   \n",
       "\n",
       "     nightTime                     geometry  \n",
       "989      False  POINT (-122.24300 47.50965)  "
      ]
     },
     "execution_count": 20,
     "metadata": {},
     "output_type": "execute_result"
    }
   ],
   "source": [
    "calls911_geo[calls911_geo.longitude==calls911_geo.longitude.max()]"
   ]
  },
  {
   "cell_type": "markdown",
   "id": "77d1a43b",
   "metadata": {},
   "source": [
    "The map of Seattle has information of its limits: the **bounding box**. You can use that to filter the events:"
   ]
  },
  {
   "cell_type": "code",
   "execution_count": 23,
   "id": "f23fe817",
   "metadata": {
    "scrolled": true
   },
   "outputs": [
    {
     "ename": "NameError",
     "evalue": "name 'seattleMap' is not defined",
     "output_type": "error",
     "traceback": [
      "\u001b[1;31m---------------------------------------------------------------------------\u001b[0m",
      "\u001b[1;31mNameError\u001b[0m                                 Traceback (most recent call last)",
      "Input \u001b[1;32mIn [23]\u001b[0m, in \u001b[0;36m<cell line: 1>\u001b[1;34m()\u001b[0m\n\u001b[0;32m      1\u001b[0m calls911_geoclipped \u001b[38;5;241m=\u001b[39m gpd\u001b[38;5;241m.\u001b[39mclip(gdf\u001b[38;5;241m=\u001b[39mcalls911_geo,\n\u001b[1;32m----> 2\u001b[0m                                mask\u001b[38;5;241m=\u001b[39m\u001b[43mseattleMap\u001b[49m)\n\u001b[0;32m      4\u001b[0m \u001b[38;5;66;03m###clip mask - as marcações em potinhos para representar o mapa.\u001b[39;00m\n\u001b[0;32m      6\u001b[0m ax \u001b[38;5;241m=\u001b[39m seattleMap\u001b[38;5;241m.\u001b[39mplot(color\u001b[38;5;241m=\u001b[39m\u001b[38;5;124m'\u001b[39m\u001b[38;5;124mwhite\u001b[39m\u001b[38;5;124m'\u001b[39m,\n\u001b[0;32m      7\u001b[0m                   edgecolor\u001b[38;5;241m=\u001b[39m\u001b[38;5;124m'\u001b[39m\u001b[38;5;124mblack\u001b[39m\u001b[38;5;124m'\u001b[39m)\n",
      "\u001b[1;31mNameError\u001b[0m: name 'seattleMap' is not defined"
     ]
    }
   ],
   "source": [
    "calls911_geoclipped = gpd.clip(gdf=calls911_geo,\n",
    "                               mask=seattleMap)\n",
    "\n",
    "###clip mask - as marcações em potinhos para representar o mapa.\n",
    "\n",
    "ax = seattleMap.plot(color='white',\n",
    "                  edgecolor='black')\n",
    "\n",
    "calls911_geoclipped.plot(ax=ax, color='red',\n",
    "                  markersize=0.5)\n",
    "plt.show()"
   ]
  },
  {
   "cell_type": "markdown",
   "id": "a7dc92e1",
   "metadata": {},
   "source": [
    "We could save this file as an spatial data frame for further use in another program:"
   ]
  },
  {
   "cell_type": "code",
   "execution_count": null,
   "id": "5fa2aaab",
   "metadata": {},
   "outputs": [],
   "source": [
    "# the datetime format can not be saved so we drop it.\n",
    "# other choice could be to save it as a string.\n",
    "\n",
    "whereGeo=os.path.join(\"DataFiles\",\"calls911_geo.geojson\")\n",
    "\n",
    "calls911_geoclipped.drop(columns=[\"date\"]).to_file(whereGeo,\n",
    "                                            driver='GeoJSON')"
   ]
  },
  {
   "cell_type": "code",
   "execution_count": null,
   "id": "3b06f0a1",
   "metadata": {},
   "outputs": [],
   "source": []
  }
 ],
 "metadata": {
  "kernelspec": {
   "display_name": "Python 3 (ipykernel)",
   "language": "python",
   "name": "python3"
  },
  "language_info": {
   "codemirror_mode": {
    "name": "ipython",
    "version": 3
   },
   "file_extension": ".py",
   "mimetype": "text/x-python",
   "name": "python",
   "nbconvert_exporter": "python",
   "pygments_lexer": "ipython3",
   "version": "3.9.12"
  }
 },
 "nbformat": 4,
 "nbformat_minor": 5
}
