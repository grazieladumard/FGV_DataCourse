{
 "cells": [
  {
   "cell_type": "markdown",
   "id": "350a1e05",
   "metadata": {},
   "source": [
    "# DATA from candidates for Federal Deputies whose declare \"pastor\" - RIO, SP and Paraná - 2022 national election"
   ]
  },
  {
   "cell_type": "markdown",
   "id": "4c20fa21",
   "metadata": {},
   "source": [
    "The data is from "
   ]
  }
 ],
 "metadata": {
  "kernelspec": {
   "display_name": "Python 3 (ipykernel)",
   "language": "python",
   "name": "python3"
  },
  "language_info": {
   "codemirror_mode": {
    "name": "ipython",
    "version": 3
   },
   "file_extension": ".py",
   "mimetype": "text/x-python",
   "name": "python",
   "nbconvert_exporter": "python",
   "pygments_lexer": "ipython3",
   "version": "3.9.12"
  }
 },
 "nbformat": 4,
 "nbformat_minor": 5
}
