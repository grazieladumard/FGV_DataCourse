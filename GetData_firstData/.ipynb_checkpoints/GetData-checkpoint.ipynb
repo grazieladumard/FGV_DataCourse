{
 "cells": [
  {
   "cell_type": "markdown",
   "metadata": {
    "id": "vDPPxz0-hFad"
   },
   "source": [
    "# Getting data into Python"
   ]
  },
  {
   "cell_type": "markdown",
   "metadata": {
    "id": "Gp9Qyu8lhAC9"
   },
   "source": [
    "The data in this example will come from this location:\n",
    "\n",
    "* [https://en.wikipedia.org/wiki/List_of_wars_by_death_toll](https://en.wikipedia.org/wiki/List_of_wars_by_death_toll)"
   ]
  },
  {
   "cell_type": "code",
   "execution_count": 21,
   "metadata": {
    "id": "otvmQuXthm9N"
   },
   "outputs": [],
   "source": [
    "# here we save the comple link (in quotations):\n",
    "link='https://en.wikipedia.org/wiki/List_of_wars_by_death_toll'"
   ]
  },
  {
   "cell_type": "markdown",
   "metadata": {
    "id": "ncdqePWThxwF"
   },
   "source": [
    "The operation to get dat from the web requires more than the basic Python functions. Then, you need to install some extra packages:\n",
    "* pandas\n",
    "* html5lib\n",
    "* beautifulsoup4\n",
    "* lxml\n",
    "* requests. "
   ]
  },
  {
   "cell_type": "code",
   "execution_count": 1,
   "metadata": {
    "colab": {
     "base_uri": "https://localhost:8080/"
    },
    "id": "bm1Ly4Tfj9lL",
    "outputId": "79f40442-1db7-4ea8-89e3-f2f57ab04541"
   },
   "outputs": [
    {
     "name": "stdout",
     "output_type": "stream",
     "text": [
      "Name: pandas\n",
      "Version: 1.4.3\n",
      "Summary: Powerful data structures for data analysis, time series, and statistics\n",
      "Home-page: https://pandas.pydata.org\n",
      "Author: The Pandas Development Team\n",
      "Author-email: pandas-dev@python.org\n",
      "License: BSD-3-Clause\n",
      "Location: c:\\users\\graziela\\anaconda3\\envs\\fgv\\lib\\site-packages\n",
      "Requires: numpy, python-dateutil, pytz\n",
      "Required-by: geopandas, mapclassify\n",
      "---\n",
      "Name: html5lib\n",
      "Version: 1.1\n",
      "Summary: HTML parser based on the WHATWG HTML specification\n",
      "Home-page: https://github.com/html5lib/html5lib-python\n",
      "Author: \n",
      "Author-email: \n",
      "License: MIT License\n",
      "Location: c:\\users\\graziela\\anaconda3\\envs\\fgv\\lib\\site-packages\n",
      "Requires: six, webencodings\n",
      "Required-by: \n",
      "---\n",
      "Name: beautifulsoup4\n",
      "Version: 4.11.1\n",
      "Summary: Screen-scraping library\n",
      "Home-page: https://www.crummy.com/software/BeautifulSoup/bs4/\n",
      "Author: Leonard Richardson\n",
      "Author-email: leonardr@segfault.org\n",
      "License: MIT\n",
      "Location: c:\\users\\graziela\\anaconda3\\envs\\fgv\\lib\\site-packages\n",
      "Requires: soupsieve\n",
      "Required-by: nbconvert\n",
      "---\n",
      "Name: requests\n",
      "Version: 2.28.1\n",
      "Summary: Python HTTP for Humans.\n",
      "Home-page: https://requests.readthedocs.io\n",
      "Author: Kenneth Reitz\n",
      "Author-email: me@kennethreitz.org\n",
      "License: Apache 2.0\n",
      "Location: c:\\users\\graziela\\anaconda3\\envs\\fgv\\lib\\site-packages\n",
      "Requires: certifi, charset-normalizer, idna, urllib3\n",
      "Required-by: jupyterlab-server\n"
     ]
    },
    {
     "name": "stderr",
     "output_type": "stream",
     "text": [
      "WARNING: Package(s) not found: lxml\n"
     ]
    }
   ],
   "source": [
    "# this code can help you know if you already have the packages listed above:\n",
    "\n",
    "!pip show pandas html5lib beautifulsoup4 lxml requests "
   ]
  },
  {
   "cell_type": "code",
   "execution_count": 23,
   "metadata": {
    "colab": {
     "base_uri": "https://localhost:8080/"
    },
    "id": "RI3VZnrpDlJ3",
    "outputId": "f5175314-1477-4703-fdfb-4cfa2217ba6b"
   },
   "outputs": [
    {
     "name": "stdout",
     "output_type": "stream",
     "text": [
      "Python 3.9.12\n"
     ]
    }
   ],
   "source": [
    "!python --version"
   ]
  },
  {
   "cell_type": "markdown",
   "metadata": {
    "id": "LbBO6_yBmT1U"
   },
   "source": [
    "Any package not available can be installed using **pip install _package-name_** . Let's bring the table easily with pandas' *read_html*:"
   ]
  },
  {
   "cell_type": "code",
   "execution_count": 1,
   "metadata": {
    "id": "D1KA_ElJlykr"
   },
   "outputs": [
    {
     "ename": "NameError",
     "evalue": "name 'link' is not defined",
     "output_type": "error",
     "traceback": [
      "\u001b[1;31m---------------------------------------------------------------------------\u001b[0m",
      "\u001b[1;31mNameError\u001b[0m                                 Traceback (most recent call last)",
      "Input \u001b[1;32mIn [1]\u001b[0m, in \u001b[0;36m<cell line: 4>\u001b[1;34m()\u001b[0m\n\u001b[0;32m      1\u001b[0m \u001b[38;5;28;01mimport\u001b[39;00m \u001b[38;5;21;01mpandas\u001b[39;00m \u001b[38;5;28;01mas\u001b[39;00m \u001b[38;5;21;01mpd\u001b[39;00m\n\u001b[1;32m----> 4\u001b[0m wars\u001b[38;5;241m=\u001b[39mpd\u001b[38;5;241m.\u001b[39mread_html(io\u001b[38;5;241m=\u001b[39m\u001b[43mlink\u001b[49m, \u001b[38;5;66;03m# reading the info from link\u001b[39;00m\n\u001b[0;32m      5\u001b[0m                   flavor\u001b[38;5;241m=\u001b[39m\u001b[38;5;124m'\u001b[39m\u001b[38;5;124mbs4\u001b[39m\u001b[38;5;124m'\u001b[39m, \u001b[38;5;66;03m# the parsing engine\u001b[39;00m\n\u001b[0;32m      6\u001b[0m                   attrs \u001b[38;5;241m=\u001b[39m {\u001b[38;5;124m'\u001b[39m\u001b[38;5;124mclass\u001b[39m\u001b[38;5;124m'\u001b[39m: \u001b[38;5;124m'\u001b[39m\u001b[38;5;124msortable wikitable\u001b[39m\u001b[38;5;124m'\u001b[39m})\n",
      "\u001b[1;31mNameError\u001b[0m: name 'link' is not defined"
     ]
    }
   ],
   "source": [
    "import pandas as pd\n",
    "\n",
    "\n",
    "wars=pd.read_html(io=link, # reading the info from link\n",
    "                  flavor='bs4', # the parsing engine\n",
    "                  attrs = {'class': 'sortable wikitable'})# how did I know this? o panda vai pegar todos os itens da classe(html) sortabe wikitable."
   ]
  },
  {
   "cell_type": "markdown",
   "metadata": {
    "id": "QZgL_g_NnzXy"
   },
   "source": [
    "The object **wars** is not a table, but a list (of sortable wiki tables):"
   ]
  },
  {
   "cell_type": "code",
   "execution_count": 13,
   "metadata": {
    "colab": {
     "base_uri": "https://localhost:8080/"
    },
    "id": "w8C0hLOpnwkR",
    "outputId": "d54563e7-f8f4-419b-c5c5-b9c1d1050605"
   },
   "outputs": [
    {
     "data": {
      "text/plain": [
       "list"
      ]
     },
     "execution_count": 13,
     "metadata": {},
     "output_type": "execute_result"
    }
   ],
   "source": [
    "# type of object\n",
    "type(wars)"
   ]
  },
  {
   "cell_type": "markdown",
   "metadata": {
    "id": "j2bsR5gfoBcu"
   },
   "source": [
    "...and we have this many:"
   ]
  },
  {
   "cell_type": "code",
   "execution_count": 14,
   "metadata": {
    "colab": {
     "base_uri": "https://localhost:8080/"
    },
    "id": "PbiDbqr2n-eG",
    "outputId": "74a1d4af-f567-4f8f-de04-1f01114e85f8"
   },
   "outputs": [
    {
     "data": {
      "text/plain": [
       "3"
      ]
     },
     "execution_count": 14,
     "metadata": {},
     "output_type": "execute_result"
    }
   ],
   "source": [
    "len(wars)"
   ]
  },
  {
   "cell_type": "markdown",
   "metadata": {
    "id": "QcopPZ0HW8Oi"
   },
   "source": [
    "You can access each element of the list using an index inside '[ ]'. This is what you have in the first element:"
   ]
  },
  {
   "cell_type": "code",
   "execution_count": 15,
   "metadata": {
    "colab": {
     "base_uri": "https://localhost:8080/"
    },
    "id": "33r3HIGlXMGn",
    "outputId": "82da2018-3a67-4724-f346-c996d9b4009e"
   },
   "outputs": [
    {
     "data": {
      "text/plain": [
       "pandas.core.frame.DataFrame"
      ]
     },
     "execution_count": 15,
     "metadata": {},
     "output_type": "execute_result"
    }
   ],
   "source": [
    "type(wars[0]) #the first starts in zero in Python."
   ]
  },
  {
   "cell_type": "markdown",
   "metadata": {
    "id": "Mh_yDazUXdbt"
   },
   "source": [
    "The first element of _wars_ is a pandas dataframe. Let's check some info:"
   ]
  },
  {
   "cell_type": "code",
   "execution_count": 16,
   "metadata": {
    "colab": {
     "base_uri": "https://localhost:8080/"
    },
    "id": "dXcslXd_YcGj",
    "outputId": "24d02e7f-a670-4420-fddf-f94eaace8d13"
   },
   "outputs": [
    {
     "data": {
      "text/plain": [
       "(24, 6)"
      ]
     },
     "execution_count": 16,
     "metadata": {},
     "output_type": "execute_result"
    }
   ],
   "source": [
    "wars[0].shape # amount of rows and columns"
   ]
  },
  {
   "cell_type": "code",
   "execution_count": 17,
   "metadata": {
    "colab": {
     "base_uri": "https://localhost:8080/"
    },
    "id": "7jBJupvxYkGF",
    "outputId": "282aad57-1b2e-4d67-890b-a59f4bac84bd"
   },
   "outputs": [
    {
     "data": {
      "text/plain": [
       "Index(['War', 'Deathrange', 'Date', 'Combatants', 'Location', 'Notes'], dtype='object')"
      ]
     },
     "execution_count": 17,
     "metadata": {},
     "output_type": "execute_result"
    }
   ],
   "source": [
    "wars[0].columns # column names"
   ]
  },
  {
   "cell_type": "code",
   "execution_count": 18,
   "metadata": {
    "colab": {
     "base_uri": "https://localhost:8080/"
    },
    "id": "ItgvCRPvYn9r",
    "outputId": "00d6d93e-762a-409d-c06d-a844f42b40bf"
   },
   "outputs": [
    {
     "name": "stdout",
     "output_type": "stream",
     "text": [
      "<class 'pandas.core.frame.DataFrame'>\n",
      "RangeIndex: 24 entries, 0 to 23\n",
      "Data columns (total 6 columns):\n",
      " #   Column      Non-Null Count  Dtype \n",
      "---  ------      --------------  ----- \n",
      " 0   War         24 non-null     object\n",
      " 1   Deathrange  24 non-null     object\n",
      " 2   Date        24 non-null     object\n",
      " 3   Combatants  24 non-null     object\n",
      " 4   Location    24 non-null     object\n",
      " 5   Notes       20 non-null     object\n",
      "dtypes: object(6)\n",
      "memory usage: 1.2+ KB\n"
     ]
    }
   ],
   "source": [
    "wars[0].info() # column data types"
   ]
  },
  {
   "cell_type": "code",
   "execution_count": 19,
   "metadata": {
    "colab": {
     "base_uri": "https://localhost:8080/",
     "height": 337
    },
    "id": "zWZhUhFnYtf9",
    "outputId": "3e78db0e-5c57-40f0-cd12-3b9efedd2c3b"
   },
   "outputs": [
    {
     "data": {
      "text/html": [
       "<div>\n",
       "<style scoped>\n",
       "    .dataframe tbody tr th:only-of-type {\n",
       "        vertical-align: middle;\n",
       "    }\n",
       "\n",
       "    .dataframe tbody tr th {\n",
       "        vertical-align: top;\n",
       "    }\n",
       "\n",
       "    .dataframe thead th {\n",
       "        text-align: right;\n",
       "    }\n",
       "</style>\n",
       "<table border=\"1\" class=\"dataframe\">\n",
       "  <thead>\n",
       "    <tr style=\"text-align: right;\">\n",
       "      <th></th>\n",
       "      <th>War</th>\n",
       "      <th>Deathrange</th>\n",
       "      <th>Date</th>\n",
       "      <th>Combatants</th>\n",
       "      <th>Location</th>\n",
       "      <th>Notes</th>\n",
       "    </tr>\n",
       "  </thead>\n",
       "  <tbody>\n",
       "    <tr>\n",
       "      <th>0</th>\n",
       "      <td>Conquests of Cyrus the Great</td>\n",
       "      <td>100,000+</td>\n",
       "      <td>549 BC–530 BC</td>\n",
       "      <td>Persian Empire vs. various states</td>\n",
       "      <td>Middle East</td>\n",
       "      <td>Number given is the sum of all deaths in battl...</td>\n",
       "    </tr>\n",
       "    <tr>\n",
       "      <th>1</th>\n",
       "      <td>Greco–Persian Wars</td>\n",
       "      <td>300,000+</td>\n",
       "      <td>499 BC–449 BC</td>\n",
       "      <td>Greek City-States vs. Persian Empire</td>\n",
       "      <td>Greece</td>\n",
       "      <td>NaN</td>\n",
       "    </tr>\n",
       "    <tr>\n",
       "      <th>2</th>\n",
       "      <td>Samnite Wars</td>\n",
       "      <td>33,500+</td>\n",
       "      <td>343 BC–290 BC</td>\n",
       "      <td>Roman Republic vs. Samnites</td>\n",
       "      <td>Italy</td>\n",
       "      <td>Number given is the sum of all deaths in battl...</td>\n",
       "    </tr>\n",
       "    <tr>\n",
       "      <th>3</th>\n",
       "      <td>Wars of Alexander the Great</td>\n",
       "      <td>142,000+</td>\n",
       "      <td>336 BC–323 BC</td>\n",
       "      <td>Macedonian Empire and other Greek City-States ...</td>\n",
       "      <td>Middle East / North Africa / Central Asia / India</td>\n",
       "      <td>Number given is the sum of all deaths in battl...</td>\n",
       "    </tr>\n",
       "    <tr>\n",
       "      <th>4</th>\n",
       "      <td>Punic Wars</td>\n",
       "      <td>1,250,000–1,850,000</td>\n",
       "      <td>264 BC–146 BC</td>\n",
       "      <td>Roman Republic vs. Carthaginian Empire</td>\n",
       "      <td>Western Europe / North Africa</td>\n",
       "      <td>NaN</td>\n",
       "    </tr>\n",
       "  </tbody>\n",
       "</table>\n",
       "</div>"
      ],
      "text/plain": [
       "                            War           Deathrange           Date  \\\n",
       "0  Conquests of Cyrus the Great             100,000+  549 BC–530 BC   \n",
       "1            Greco–Persian Wars             300,000+  499 BC–449 BC   \n",
       "2                  Samnite Wars              33,500+  343 BC–290 BC   \n",
       "3   Wars of Alexander the Great             142,000+  336 BC–323 BC   \n",
       "4                    Punic Wars  1,250,000–1,850,000  264 BC–146 BC   \n",
       "\n",
       "                                          Combatants  \\\n",
       "0                  Persian Empire vs. various states   \n",
       "1               Greek City-States vs. Persian Empire   \n",
       "2                        Roman Republic vs. Samnites   \n",
       "3  Macedonian Empire and other Greek City-States ...   \n",
       "4             Roman Republic vs. Carthaginian Empire   \n",
       "\n",
       "                                            Location  \\\n",
       "0                                        Middle East   \n",
       "1                                             Greece   \n",
       "2                                              Italy   \n",
       "3  Middle East / North Africa / Central Asia / India   \n",
       "4                      Western Europe / North Africa   \n",
       "\n",
       "                                               Notes  \n",
       "0  Number given is the sum of all deaths in battl...  \n",
       "1                                                NaN  \n",
       "2  Number given is the sum of all deaths in battl...  \n",
       "3  Number given is the sum of all deaths in battl...  \n",
       "4                                                NaN  "
      ]
     },
     "execution_count": 19,
     "metadata": {},
     "output_type": "execute_result"
    }
   ],
   "source": [
    "wars[0].head() # or tail()"
   ]
  },
  {
   "cell_type": "markdown",
   "metadata": {
    "id": "j0I2PCpBoc6G"
   },
   "source": [
    "Request the following information:\n",
    "* The amount of rows in the other data frames in the object _wars_.\n",
    "* Confirm all those data frames share the same column names."
   ]
  },
  {
   "cell_type": "markdown",
   "metadata": {
    "id": "WHhYHCPEo_CQ"
   },
   "source": [
    "The same web page from Wikipedia has more information on wars that is more difficult to scrap. I leave the example [HERE](https://colab.research.google.com/drive/1fMva9mhuUiLOlxQ6w7irzz2QVeKTzOXf?usp=sharing) in case you want to know more."
   ]
  },
  {
   "cell_type": "code",
   "execution_count": 25,
   "metadata": {},
   "outputs": [],
   "source": [
    "import os #pode escrever o caminho completo, mas o \"os\" fica mais prático.\n",
    "\n",
    "wars[0].to_csv(os.path.join(\"DataFiles\",\"wars1P.csv\"),index=False)#evite exportar com o index.\n",
    "wars[1].to_csv(os.path.join(\"DataFiles\",\"wars2P.csv\"),index=False)\n",
    "wars[2].to_csv(os.path.join(\"DataFiles\",\"wars3P.csv\"),index=False)"
   ]
  },
  {
   "cell_type": "code",
   "execution_count": null,
   "metadata": {},
   "outputs": [],
   "source": []
  }
 ],
 "metadata": {
  "colab": {
   "collapsed_sections": [],
   "name": "Cópia de GetData.ipynb",
   "provenance": []
  },
  "kernelspec": {
   "display_name": "Python 3 (ipykernel)",
   "language": "python",
   "name": "python3"
  },
  "language_info": {
   "codemirror_mode": {
    "name": "ipython",
    "version": 3
   },
   "file_extension": ".py",
   "mimetype": "text/x-python",
   "name": "python",
   "nbconvert_exporter": "python",
   "pygments_lexer": "ipython3",
   "version": "3.9.12"
  }
 },
 "nbformat": 4,
 "nbformat_minor": 1
}
